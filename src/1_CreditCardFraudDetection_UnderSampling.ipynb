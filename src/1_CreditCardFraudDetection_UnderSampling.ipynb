{
 "cells": [
  {
   "cell_type": "markdown",
   "metadata": {},
   "source": [
    "# Credit Card Fraud Detection\n",
    "It is important that credit card companies are able to recognize fraudulent credit card transactions so that customers are not charged for items that they did not purchase."
   ]
  },
  {
   "cell_type": "markdown",
   "metadata": {},
   "source": [
    "## Description of data\n",
    "\n",
    "- The datasets contains transactions made by credit cards in September 2013 by european cardholders.\n",
    "- This dataset presents transactions that occurred in two days, where we have 492 frauds out of 284,807 transactions.\n",
    "- The dataset is highly <b>unbalanced</b>, the positive class (frauds) account for 0.172% of all transactions.\n",
    "- It contains only numerical input variables which are the result of a PCA transformation. \n",
    "- Due to confidentiality issues, the original features and more background information about the data is not provided. \n",
    "- Features V1, V2, … V28 are the principal components obtained with PCA, the only features which have not been transformed with PCA are 'Time' and 'Amount'. \n",
    "- Feature 'Time' contains the seconds elapsed between each transaction and the first transaction in the dataset.\n",
    "- The feature 'Amount' is the transaction Amount.\n",
    "- Feature 'Class' is the response variable and it takes value 1 in case of fraud and 0 otherwise.\n",
    "\n",
    "Source: [Kaggle](https://www.kaggle.com/mlg-ulb/creditcardfraud)"
   ]
  },
  {
   "cell_type": "markdown",
   "metadata": {
    "tags": []
   },
   "source": [
    "## Import required Libraries"
   ]
  },
  {
   "cell_type": "code",
   "execution_count": 8,
   "metadata": {},
   "outputs": [],
   "source": [
    "# Install additional required packages\n",
    "# !pip install xgboost \n",
    "# !pip install tabulate"
   ]
  },
  {
   "cell_type": "code",
   "execution_count": 9,
   "metadata": {
    "tags": []
   },
   "outputs": [],
   "source": [
    "import pandas as pd\n",
    "import numpy as np\n",
    "\n",
    "# For scaling the features and train-test split\n",
    "from sklearn.preprocessing import RobustScaler, StandardScaler, MinMaxScaler\n",
    "from sklearn.model_selection import train_test_split, StratifiedShuffleSplit\n",
    "\n",
    "# For model buidling\n",
    "from sklearn.ensemble import RandomForestClassifier, GradientBoostingClassifier\n",
    "from xgboost import XGBClassifier\n",
    "\n",
    "# For plotting\n",
    "import seaborn as sns\n",
    "import matplotlib.pyplot as plt\n",
    "\n",
    "# Custom module for prediction and model evalution\n",
    "#from utils import predict_and_evaluate"
   ]
  },
  {
   "cell_type": "code",
   "execution_count": 10,
   "metadata": {
    "tags": []
   },
   "outputs": [],
   "source": [
    "# read data file\n",
    "# this file is compressed in bzip2 format and index column is included in it\n",
    "df = pd.read_csv('../CC.csv')"
   ]
  },
  {
   "cell_type": "markdown",
   "metadata": {
    "tags": []
   },
   "source": [
    "##  Undersand the data"
   ]
  },
  {
   "cell_type": "code",
   "execution_count": 11,
   "metadata": {
    "scrolled": true,
    "tags": []
   },
   "outputs": [
    {
     "data": {
      "text/html": [
       "<div>\n",
       "<style scoped>\n",
       "    .dataframe tbody tr th:only-of-type {\n",
       "        vertical-align: middle;\n",
       "    }\n",
       "\n",
       "    .dataframe tbody tr th {\n",
       "        vertical-align: top;\n",
       "    }\n",
       "\n",
       "    .dataframe thead th {\n",
       "        text-align: right;\n",
       "    }\n",
       "</style>\n",
       "<table border=\"1\" class=\"dataframe\">\n",
       "  <thead>\n",
       "    <tr style=\"text-align: right;\">\n",
       "      <th></th>\n",
       "      <th>Unnamed: 0</th>\n",
       "      <th>Time</th>\n",
       "      <th>V1</th>\n",
       "      <th>V2</th>\n",
       "      <th>V3</th>\n",
       "      <th>V4</th>\n",
       "      <th>V5</th>\n",
       "      <th>V6</th>\n",
       "      <th>V7</th>\n",
       "      <th>V8</th>\n",
       "      <th>...</th>\n",
       "      <th>V21</th>\n",
       "      <th>V22</th>\n",
       "      <th>V23</th>\n",
       "      <th>V24</th>\n",
       "      <th>V25</th>\n",
       "      <th>V26</th>\n",
       "      <th>V27</th>\n",
       "      <th>V28</th>\n",
       "      <th>Amount</th>\n",
       "      <th>Class</th>\n",
       "    </tr>\n",
       "  </thead>\n",
       "  <tbody>\n",
       "    <tr>\n",
       "      <th>0</th>\n",
       "      <td>1</td>\n",
       "      <td>0.0</td>\n",
       "      <td>-1.359807</td>\n",
       "      <td>-0.072781</td>\n",
       "      <td>2.536347</td>\n",
       "      <td>1.378155</td>\n",
       "      <td>-0.338321</td>\n",
       "      <td>0.462388</td>\n",
       "      <td>0.239599</td>\n",
       "      <td>0.098698</td>\n",
       "      <td>...</td>\n",
       "      <td>-0.018307</td>\n",
       "      <td>0.277838</td>\n",
       "      <td>-0.110474</td>\n",
       "      <td>0.066928</td>\n",
       "      <td>0.128539</td>\n",
       "      <td>-0.189115</td>\n",
       "      <td>0.133558</td>\n",
       "      <td>-0.021053</td>\n",
       "      <td>149.62</td>\n",
       "      <td>0</td>\n",
       "    </tr>\n",
       "    <tr>\n",
       "      <th>1</th>\n",
       "      <td>2</td>\n",
       "      <td>0.0</td>\n",
       "      <td>1.191857</td>\n",
       "      <td>0.266151</td>\n",
       "      <td>0.166480</td>\n",
       "      <td>0.448154</td>\n",
       "      <td>0.060018</td>\n",
       "      <td>-0.082361</td>\n",
       "      <td>-0.078803</td>\n",
       "      <td>0.085102</td>\n",
       "      <td>...</td>\n",
       "      <td>-0.225775</td>\n",
       "      <td>-0.638672</td>\n",
       "      <td>0.101288</td>\n",
       "      <td>-0.339846</td>\n",
       "      <td>0.167170</td>\n",
       "      <td>0.125895</td>\n",
       "      <td>-0.008983</td>\n",
       "      <td>0.014724</td>\n",
       "      <td>2.69</td>\n",
       "      <td>0</td>\n",
       "    </tr>\n",
       "    <tr>\n",
       "      <th>2</th>\n",
       "      <td>3</td>\n",
       "      <td>1.0</td>\n",
       "      <td>-1.358354</td>\n",
       "      <td>-1.340163</td>\n",
       "      <td>1.773209</td>\n",
       "      <td>0.379780</td>\n",
       "      <td>-0.503198</td>\n",
       "      <td>1.800499</td>\n",
       "      <td>0.791461</td>\n",
       "      <td>0.247676</td>\n",
       "      <td>...</td>\n",
       "      <td>0.247998</td>\n",
       "      <td>0.771679</td>\n",
       "      <td>0.909412</td>\n",
       "      <td>-0.689281</td>\n",
       "      <td>-0.327642</td>\n",
       "      <td>-0.139097</td>\n",
       "      <td>-0.055353</td>\n",
       "      <td>-0.059752</td>\n",
       "      <td>378.66</td>\n",
       "      <td>0</td>\n",
       "    </tr>\n",
       "    <tr>\n",
       "      <th>3</th>\n",
       "      <td>4</td>\n",
       "      <td>1.0</td>\n",
       "      <td>-0.966272</td>\n",
       "      <td>-0.185226</td>\n",
       "      <td>1.792993</td>\n",
       "      <td>-0.863291</td>\n",
       "      <td>-0.010309</td>\n",
       "      <td>1.247203</td>\n",
       "      <td>0.237609</td>\n",
       "      <td>0.377436</td>\n",
       "      <td>...</td>\n",
       "      <td>-0.108300</td>\n",
       "      <td>0.005274</td>\n",
       "      <td>-0.190321</td>\n",
       "      <td>-1.175575</td>\n",
       "      <td>0.647376</td>\n",
       "      <td>-0.221929</td>\n",
       "      <td>0.062723</td>\n",
       "      <td>0.061458</td>\n",
       "      <td>123.50</td>\n",
       "      <td>0</td>\n",
       "    </tr>\n",
       "    <tr>\n",
       "      <th>4</th>\n",
       "      <td>5</td>\n",
       "      <td>2.0</td>\n",
       "      <td>-1.158233</td>\n",
       "      <td>0.877737</td>\n",
       "      <td>1.548718</td>\n",
       "      <td>0.403034</td>\n",
       "      <td>-0.407193</td>\n",
       "      <td>0.095921</td>\n",
       "      <td>0.592941</td>\n",
       "      <td>-0.270533</td>\n",
       "      <td>...</td>\n",
       "      <td>-0.009431</td>\n",
       "      <td>0.798278</td>\n",
       "      <td>-0.137458</td>\n",
       "      <td>0.141267</td>\n",
       "      <td>-0.206010</td>\n",
       "      <td>0.502292</td>\n",
       "      <td>0.219422</td>\n",
       "      <td>0.215153</td>\n",
       "      <td>69.99</td>\n",
       "      <td>0</td>\n",
       "    </tr>\n",
       "  </tbody>\n",
       "</table>\n",
       "<p>5 rows × 32 columns</p>\n",
       "</div>"
      ],
      "text/plain": [
       "   Unnamed: 0  Time        V1        V2        V3        V4        V5  \\\n",
       "0           1   0.0 -1.359807 -0.072781  2.536347  1.378155 -0.338321   \n",
       "1           2   0.0  1.191857  0.266151  0.166480  0.448154  0.060018   \n",
       "2           3   1.0 -1.358354 -1.340163  1.773209  0.379780 -0.503198   \n",
       "3           4   1.0 -0.966272 -0.185226  1.792993 -0.863291 -0.010309   \n",
       "4           5   2.0 -1.158233  0.877737  1.548718  0.403034 -0.407193   \n",
       "\n",
       "         V6        V7        V8  ...       V21       V22       V23       V24  \\\n",
       "0  0.462388  0.239599  0.098698  ... -0.018307  0.277838 -0.110474  0.066928   \n",
       "1 -0.082361 -0.078803  0.085102  ... -0.225775 -0.638672  0.101288 -0.339846   \n",
       "2  1.800499  0.791461  0.247676  ...  0.247998  0.771679  0.909412 -0.689281   \n",
       "3  1.247203  0.237609  0.377436  ... -0.108300  0.005274 -0.190321 -1.175575   \n",
       "4  0.095921  0.592941 -0.270533  ... -0.009431  0.798278 -0.137458  0.141267   \n",
       "\n",
       "        V25       V26       V27       V28  Amount  Class  \n",
       "0  0.128539 -0.189115  0.133558 -0.021053  149.62      0  \n",
       "1  0.167170  0.125895 -0.008983  0.014724    2.69      0  \n",
       "2 -0.327642 -0.139097 -0.055353 -0.059752  378.66      0  \n",
       "3  0.647376 -0.221929  0.062723  0.061458  123.50      0  \n",
       "4 -0.206010  0.502292  0.219422  0.215153   69.99      0  \n",
       "\n",
       "[5 rows x 32 columns]"
      ]
     },
     "execution_count": 11,
     "metadata": {},
     "output_type": "execute_result"
    }
   ],
   "source": [
    "df.head()"
   ]
  },
  {
   "cell_type": "code",
   "execution_count": 12,
   "metadata": {},
   "outputs": [
    {
     "data": {
      "text/plain": [
       "count    284807.000000\n",
       "mean         88.349619\n",
       "std         250.120109\n",
       "min           0.000000\n",
       "25%           5.600000\n",
       "50%          22.000000\n",
       "75%          77.165000\n",
       "max       25691.160000\n",
       "Name: Amount, dtype: float64"
      ]
     },
     "execution_count": 12,
     "metadata": {},
     "output_type": "execute_result"
    }
   ],
   "source": [
    "df.Amount.describe()"
   ]
  },
  {
   "cell_type": "code",
   "execution_count": 13,
   "metadata": {
    "tags": []
   },
   "outputs": [
    {
     "data": {
      "text/plain": [
       "(284807, 32)"
      ]
     },
     "execution_count": 13,
     "metadata": {},
     "output_type": "execute_result"
    }
   ],
   "source": [
    "df.shape"
   ]
  },
  {
   "cell_type": "code",
   "execution_count": 14,
   "metadata": {
    "scrolled": true,
    "tags": []
   },
   "outputs": [
    {
     "data": {
      "text/plain": [
       "Unnamed: 0    0\n",
       "Time          0\n",
       "V1            0\n",
       "V2            0\n",
       "V3            0\n",
       "V4            0\n",
       "V5            0\n",
       "V6            0\n",
       "V7            0\n",
       "V8            0\n",
       "V9            0\n",
       "V10           0\n",
       "V11           0\n",
       "V12           0\n",
       "V13           0\n",
       "V14           0\n",
       "V15           0\n",
       "V16           0\n",
       "V17           0\n",
       "V18           0\n",
       "V19           0\n",
       "V20           0\n",
       "V21           0\n",
       "V22           0\n",
       "V23           0\n",
       "V24           0\n",
       "V25           0\n",
       "V26           0\n",
       "V27           0\n",
       "V28           0\n",
       "Amount        0\n",
       "Class         0\n",
       "dtype: int64"
      ]
     },
     "execution_count": 14,
     "metadata": {},
     "output_type": "execute_result"
    }
   ],
   "source": [
    "df.isnull().sum() # Check Null Values!"
   ]
  },
  {
   "cell_type": "code",
   "execution_count": 15,
   "metadata": {
    "scrolled": true,
    "tags": []
   },
   "outputs": [
    {
     "data": {
      "text/plain": [
       "Index(['Unnamed: 0', 'Time', 'V1', 'V2', 'V3', 'V4', 'V5', 'V6', 'V7', 'V8',\n",
       "       'V9', 'V10', 'V11', 'V12', 'V13', 'V14', 'V15', 'V16', 'V17', 'V18',\n",
       "       'V19', 'V20', 'V21', 'V22', 'V23', 'V24', 'V25', 'V26', 'V27', 'V28',\n",
       "       'Amount', 'Class'],\n",
       "      dtype='object')"
      ]
     },
     "execution_count": 15,
     "metadata": {},
     "output_type": "execute_result"
    }
   ],
   "source": [
    "df.columns"
   ]
  },
  {
   "cell_type": "code",
   "execution_count": 16,
   "metadata": {
    "tags": []
   },
   "outputs": [
    {
     "name": "stdout",
     "output_type": "stream",
     "text": [
      "No Frauds 99.83 % of the dataset\n",
      "Frauds 0.17 % of the dataset\n"
     ]
    }
   ],
   "source": [
    "# Check Distribution Of Label\n",
    "print('No Frauds', round(df['Class'].value_counts()[0]/len(df) * 100,2), '% of the dataset')\n",
    "print('Frauds', round(df['Class'].value_counts()[1]/len(df) * 100,2), '% of the dataset')"
   ]
  },
  {
   "cell_type": "code",
   "execution_count": 17,
   "metadata": {
    "scrolled": true,
    "tags": []
   },
   "outputs": [
    {
     "name": "stdout",
     "output_type": "stream",
     "text": [
      "No Frauds 284315 are normal transactions\n",
      "Frauds 492 are fraud\n"
     ]
    }
   ],
   "source": [
    "# The classes are heavily skewed. This is problem that needs to be solved. How?\n",
    "print('No Frauds', round(df['Class'].value_counts()[0],2), 'are normal transactions')\n",
    "print('Frauds', round(df['Class'].value_counts()[1],2), 'are fraud')"
   ]
  },
  {
   "cell_type": "code",
   "execution_count": 18,
   "metadata": {
    "tags": []
   },
   "outputs": [
    {
     "data": {
      "text/plain": [
       "Text(0.5, 1.0, 'Class Distributions \\n (0: No Fraud || 1: Fraud)')"
      ]
     },
     "execution_count": 18,
     "metadata": {},
     "output_type": "execute_result"
    },
    {
     "data": {
      "image/png": "[encoded data removed]",
      "text/plain": [
       "<Figure size 640x480 with 1 Axes>"
      ]
     },
     "metadata": {},
     "output_type": "display_data"
    }
   ],
   "source": [
    "colors = [\"#0101DF\", \"#DF0101\"]\n",
    "\n",
    "sns.countplot(x='Class', data=df, palette=colors)\n",
    "plt.title('Class Distributions \\n (0: No Fraud || 1: Fraud)', fontsize=14)"
   ]
  },
  {
   "cell_type": "markdown",
   "metadata": {
    "tags": []
   },
   "source": [
    "- Notice how imbalanced is our original dataset! \n",
    "- Most of the transactions are non-fraud. \n",
    "- If we use this dataframe as the base for our predictive models and analysis we might get a lot of errors and our algorithms will probably overfit since it will \"assume\" that most transactions are not fraud. \n",
    "- But we don't want our model to assume, we want our model to detect patterns that give signs of fraud!"
   ]
  },
  {
   "cell_type": "markdown",
   "metadata": {
    "tags": []
   },
   "source": [
    "## Preprocessing - Scaling and Distribution\n",
    "- We will first scale the columns comprise of <b>Time</b> and <b>Amount </b>. \n",
    "- Time and amount should be scaled as the other columns. \n",
    "- On the other hand, we need to also create a sub sample of the dataframe in order to have an equal amount of Fraud and Non-Fraud cases, helping our algorithms better understand patterns that determines whether a transaction is a fraud or not.\n",
    "\n",
    "### What is a sub-Sample?\n",
    "In this scenario, our subsample will be a dataframe with a 50/50 ratio of fraud and non-fraud transactions. Meaning our sub-sample will have the same amount of fraud and non fraud transactions.\n",
    "\n",
    "### Why do we create a sub-Sample?\n",
    "We saw that the original dataframe is heavily imbalanced! Using the original dataframe  will cause the following issues:\n",
    "<ul>\n",
    "<li><b>Overfitting: </b>Our classification models will assume that in most cases there are no frauds! What we want for our model is to be certain when a fraud occurs. </li>\n",
    "<li><b>Wrong Correlations:</b> Although we don't know what the \"V\" features stand for, it will be useful to understand how each of this features influence the result (Fraud or No Fraud) by having an imbalance dataframe we are not able to see the true correlations between the class and features. </li>\n",
    "</ul>"
   ]
  },
  {
   "cell_type": "markdown",
   "metadata": {
    "tags": []
   },
   "source": [
    "### Scaling\n",
    "\n",
    "The **StandardScaler** assumes your data is normally distributed within each feature and will scale them such that the distribution is now centred around 0, with a standard deviation of 1. \n",
    "\n",
    "$$\\frac{\\text{x}-\\text{mean}}{\\text{standard deviation}}$$\n",
    "\n",
    "The **MinMaxScaler** is the probably the most famous scaling algorithm, and follows the following formula for each feature. \n",
    "\n",
    "$$\\frac{\\text{x}-\\text{min}}{\\text{max}-\\text{min}}$$\n",
    "\n",
    "It essentially shrinks the range such that the range is now between 0 and 1 (or -1 to 1 if there are negative values). If the distribution is not Gaussian or the standard deviation is very small, the min-max scaler works better. However, it is sensitive to outliers, so if there are outliers in the data, you might want to consider the Robust Scaler below.\n",
    "\n",
    "**Robust Scaler** scale features using statistics that are robust to outliers. The RobustScaler uses a similar method to the Min-Max scaler but it instead uses the interquartile range, rathar than the min-max, so that it is robust to outliers. \n",
    "\n",
    "$$\\frac{\\text{x}-\\text{Q1(x)}}{\\text{Q3(x)}-\\text{Q1(x)}}$$"
   ]
  },
  {
   "cell_type": "code",
   "execution_count": 19,
   "metadata": {
    "tags": []
   },
   "outputs": [],
   "source": [
    "# Since most of our data has already been scaled, we will scale the columns that are not scaled (Amount and Time)\n",
    "# RobustScaler is less prone to outliers.\n",
    "rob_scaler = RobustScaler()"
   ]
  },
  {
   "cell_type": "code",
   "execution_count": 20,
   "metadata": {},
   "outputs": [
    {
     "data": {
      "text/plain": [
       "array([[149.62],\n",
       "       [  2.69],\n",
       "       [378.66],\n",
       "       ...,\n",
       "       [ 67.88],\n",
       "       [ 10.  ],\n",
       "       [217.  ]])"
      ]
     },
     "execution_count": 20,
     "metadata": {},
     "output_type": "execute_result"
    }
   ],
   "source": [
    "df['Amount'].values.reshape(-1,1)"
   ]
  },
  {
   "cell_type": "code",
   "execution_count": 21,
   "metadata": {
    "tags": []
   },
   "outputs": [],
   "source": [
    "df['scaled_amount'] = rob_scaler.fit_transform(df['Amount'].values.reshape(-1,1))"
   ]
  },
  {
   "cell_type": "code",
   "execution_count": 22,
   "metadata": {
    "tags": []
   },
   "outputs": [
    {
     "data": {
      "text/plain": [
       "0         1.783274\n",
       "1        -0.269825\n",
       "2         4.983721\n",
       "3         1.418291\n",
       "4         0.670579\n",
       "            ...   \n",
       "284802   -0.296653\n",
       "284803    0.038986\n",
       "284804    0.641096\n",
       "284805   -0.167680\n",
       "284806    2.724796\n",
       "Name: scaled_amount, Length: 284807, dtype: float64"
      ]
     },
     "execution_count": 22,
     "metadata": {},
     "output_type": "execute_result"
    }
   ],
   "source": [
    "df.scaled_amount"
   ]
  },
  {
   "cell_type": "code",
   "execution_count": 23,
   "metadata": {},
   "outputs": [
    {
     "data": {
      "text/plain": [
       "count    284807.000000\n",
       "mean          0.927124\n",
       "std           3.495006\n",
       "min          -0.307413\n",
       "25%          -0.229162\n",
       "50%           0.000000\n",
       "75%           0.770838\n",
       "max         358.683155\n",
       "Name: scaled_amount, dtype: float64"
      ]
     },
     "execution_count": 23,
     "metadata": {},
     "output_type": "execute_result"
    }
   ],
   "source": [
    "df.scaled_amount.describe()"
   ]
  },
  {
   "cell_type": "code",
   "execution_count": 24,
   "metadata": {
    "tags": []
   },
   "outputs": [],
   "source": [
    "df.drop(['Amount'], axis=1, inplace=True) # remove original time and Amount Columns from df"
   ]
  },
  {
   "cell_type": "code",
   "execution_count": 25,
   "metadata": {
    "tags": []
   },
   "outputs": [
    {
     "data": {
      "text/html": [
       "<div>\n",
       "<style scoped>\n",
       "    .dataframe tbody tr th:only-of-type {\n",
       "        vertical-align: middle;\n",
       "    }\n",
       "\n",
       "    .dataframe tbody tr th {\n",
       "        vertical-align: top;\n",
       "    }\n",
       "\n",
       "    .dataframe thead th {\n",
       "        text-align: right;\n",
       "    }\n",
       "</style>\n",
       "<table border=\"1\" class=\"dataframe\">\n",
       "  <thead>\n",
       "    <tr style=\"text-align: right;\">\n",
       "      <th></th>\n",
       "      <th>Unnamed: 0</th>\n",
       "      <th>Time</th>\n",
       "      <th>V1</th>\n",
       "      <th>V2</th>\n",
       "      <th>V3</th>\n",
       "      <th>V4</th>\n",
       "      <th>V5</th>\n",
       "      <th>V6</th>\n",
       "      <th>V7</th>\n",
       "      <th>V8</th>\n",
       "      <th>...</th>\n",
       "      <th>V21</th>\n",
       "      <th>V22</th>\n",
       "      <th>V23</th>\n",
       "      <th>V24</th>\n",
       "      <th>V25</th>\n",
       "      <th>V26</th>\n",
       "      <th>V27</th>\n",
       "      <th>V28</th>\n",
       "      <th>Class</th>\n",
       "      <th>scaled_amount</th>\n",
       "    </tr>\n",
       "  </thead>\n",
       "  <tbody>\n",
       "    <tr>\n",
       "      <th>0</th>\n",
       "      <td>1</td>\n",
       "      <td>0.0</td>\n",
       "      <td>-1.359807</td>\n",
       "      <td>-0.072781</td>\n",
       "      <td>2.536347</td>\n",
       "      <td>1.378155</td>\n",
       "      <td>-0.338321</td>\n",
       "      <td>0.462388</td>\n",
       "      <td>0.239599</td>\n",
       "      <td>0.098698</td>\n",
       "      <td>...</td>\n",
       "      <td>-0.018307</td>\n",
       "      <td>0.277838</td>\n",
       "      <td>-0.110474</td>\n",
       "      <td>0.066928</td>\n",
       "      <td>0.128539</td>\n",
       "      <td>-0.189115</td>\n",
       "      <td>0.133558</td>\n",
       "      <td>-0.021053</td>\n",
       "      <td>0</td>\n",
       "      <td>1.783274</td>\n",
       "    </tr>\n",
       "    <tr>\n",
       "      <th>1</th>\n",
       "      <td>2</td>\n",
       "      <td>0.0</td>\n",
       "      <td>1.191857</td>\n",
       "      <td>0.266151</td>\n",
       "      <td>0.166480</td>\n",
       "      <td>0.448154</td>\n",
       "      <td>0.060018</td>\n",
       "      <td>-0.082361</td>\n",
       "      <td>-0.078803</td>\n",
       "      <td>0.085102</td>\n",
       "      <td>...</td>\n",
       "      <td>-0.225775</td>\n",
       "      <td>-0.638672</td>\n",
       "      <td>0.101288</td>\n",
       "      <td>-0.339846</td>\n",
       "      <td>0.167170</td>\n",
       "      <td>0.125895</td>\n",
       "      <td>-0.008983</td>\n",
       "      <td>0.014724</td>\n",
       "      <td>0</td>\n",
       "      <td>-0.269825</td>\n",
       "    </tr>\n",
       "    <tr>\n",
       "      <th>2</th>\n",
       "      <td>3</td>\n",
       "      <td>1.0</td>\n",
       "      <td>-1.358354</td>\n",
       "      <td>-1.340163</td>\n",
       "      <td>1.773209</td>\n",
       "      <td>0.379780</td>\n",
       "      <td>-0.503198</td>\n",
       "      <td>1.800499</td>\n",
       "      <td>0.791461</td>\n",
       "      <td>0.247676</td>\n",
       "      <td>...</td>\n",
       "      <td>0.247998</td>\n",
       "      <td>0.771679</td>\n",
       "      <td>0.909412</td>\n",
       "      <td>-0.689281</td>\n",
       "      <td>-0.327642</td>\n",
       "      <td>-0.139097</td>\n",
       "      <td>-0.055353</td>\n",
       "      <td>-0.059752</td>\n",
       "      <td>0</td>\n",
       "      <td>4.983721</td>\n",
       "    </tr>\n",
       "    <tr>\n",
       "      <th>3</th>\n",
       "      <td>4</td>\n",
       "      <td>1.0</td>\n",
       "      <td>-0.966272</td>\n",
       "      <td>-0.185226</td>\n",
       "      <td>1.792993</td>\n",
       "      <td>-0.863291</td>\n",
       "      <td>-0.010309</td>\n",
       "      <td>1.247203</td>\n",
       "      <td>0.237609</td>\n",
       "      <td>0.377436</td>\n",
       "      <td>...</td>\n",
       "      <td>-0.108300</td>\n",
       "      <td>0.005274</td>\n",
       "      <td>-0.190321</td>\n",
       "      <td>-1.175575</td>\n",
       "      <td>0.647376</td>\n",
       "      <td>-0.221929</td>\n",
       "      <td>0.062723</td>\n",
       "      <td>0.061458</td>\n",
       "      <td>0</td>\n",
       "      <td>1.418291</td>\n",
       "    </tr>\n",
       "    <tr>\n",
       "      <th>4</th>\n",
       "      <td>5</td>\n",
       "      <td>2.0</td>\n",
       "      <td>-1.158233</td>\n",
       "      <td>0.877737</td>\n",
       "      <td>1.548718</td>\n",
       "      <td>0.403034</td>\n",
       "      <td>-0.407193</td>\n",
       "      <td>0.095921</td>\n",
       "      <td>0.592941</td>\n",
       "      <td>-0.270533</td>\n",
       "      <td>...</td>\n",
       "      <td>-0.009431</td>\n",
       "      <td>0.798278</td>\n",
       "      <td>-0.137458</td>\n",
       "      <td>0.141267</td>\n",
       "      <td>-0.206010</td>\n",
       "      <td>0.502292</td>\n",
       "      <td>0.219422</td>\n",
       "      <td>0.215153</td>\n",
       "      <td>0</td>\n",
       "      <td>0.670579</td>\n",
       "    </tr>\n",
       "  </tbody>\n",
       "</table>\n",
       "<p>5 rows × 32 columns</p>\n",
       "</div>"
      ],
      "text/plain": [
       "   Unnamed: 0  Time        V1        V2        V3        V4        V5  \\\n",
       "0           1   0.0 -1.359807 -0.072781  2.536347  1.378155 -0.338321   \n",
       "1           2   0.0  1.191857  0.266151  0.166480  0.448154  0.060018   \n",
       "2           3   1.0 -1.358354 -1.340163  1.773209  0.379780 -0.503198   \n",
       "3           4   1.0 -0.966272 -0.185226  1.792993 -0.863291 -0.010309   \n",
       "4           5   2.0 -1.158233  0.877737  1.548718  0.403034 -0.407193   \n",
       "\n",
       "         V6        V7        V8  ...       V21       V22       V23       V24  \\\n",
       "0  0.462388  0.239599  0.098698  ... -0.018307  0.277838 -0.110474  0.066928   \n",
       "1 -0.082361 -0.078803  0.085102  ... -0.225775 -0.638672  0.101288 -0.339846   \n",
       "2  1.800499  0.791461  0.247676  ...  0.247998  0.771679  0.909412 -0.689281   \n",
       "3  1.247203  0.237609  0.377436  ... -0.108300  0.005274 -0.190321 -1.175575   \n",
       "4  0.095921  0.592941 -0.270533  ... -0.009431  0.798278 -0.137458  0.141267   \n",
       "\n",
       "        V25       V26       V27       V28  Class  scaled_amount  \n",
       "0  0.128539 -0.189115  0.133558 -0.021053      0       1.783274  \n",
       "1  0.167170  0.125895 -0.008983  0.014724      0      -0.269825  \n",
       "2 -0.327642 -0.139097 -0.055353 -0.059752      0       4.983721  \n",
       "3  0.647376 -0.221929  0.062723  0.061458      0       1.418291  \n",
       "4 -0.206010  0.502292  0.219422  0.215153      0       0.670579  \n",
       "\n",
       "[5 rows x 32 columns]"
      ]
     },
     "execution_count": 25,
     "metadata": {},
     "output_type": "execute_result"
    }
   ],
   "source": [
    "df.head()"
   ]
  },
  {
   "cell_type": "code",
   "execution_count": 26,
   "metadata": {
    "tags": []
   },
   "outputs": [],
   "source": [
    "# Rearranging the columns\n",
    "scaled_amount = df['scaled_amount']\n",
    "\n",
    "df.drop(['scaled_amount'], axis=1, inplace=True)\n",
    "df.insert(0, 'scaled_amount', scaled_amount)"
   ]
  },
  {
   "cell_type": "code",
   "execution_count": 27,
   "metadata": {
    "tags": []
   },
   "outputs": [
    {
     "data": {
      "text/html": [
       "<div>\n",
       "<style scoped>\n",
       "    .dataframe tbody tr th:only-of-type {\n",
       "        vertical-align: middle;\n",
       "    }\n",
       "\n",
       "    .dataframe tbody tr th {\n",
       "        vertical-align: top;\n",
       "    }\n",
       "\n",
       "    .dataframe thead th {\n",
       "        text-align: right;\n",
       "    }\n",
       "</style>\n",
       "<table border=\"1\" class=\"dataframe\">\n",
       "  <thead>\n",
       "    <tr style=\"text-align: right;\">\n",
       "      <th></th>\n",
       "      <th>scaled_amount</th>\n",
       "      <th>Unnamed: 0</th>\n",
       "      <th>Time</th>\n",
       "      <th>V1</th>\n",
       "      <th>V2</th>\n",
       "      <th>V3</th>\n",
       "      <th>V4</th>\n",
       "      <th>V5</th>\n",
       "      <th>V6</th>\n",
       "      <th>V7</th>\n",
       "      <th>...</th>\n",
       "      <th>V20</th>\n",
       "      <th>V21</th>\n",
       "      <th>V22</th>\n",
       "      <th>V23</th>\n",
       "      <th>V24</th>\n",
       "      <th>V25</th>\n",
       "      <th>V26</th>\n",
       "      <th>V27</th>\n",
       "      <th>V28</th>\n",
       "      <th>Class</th>\n",
       "    </tr>\n",
       "  </thead>\n",
       "  <tbody>\n",
       "    <tr>\n",
       "      <th>0</th>\n",
       "      <td>1.783274</td>\n",
       "      <td>1</td>\n",
       "      <td>0.0</td>\n",
       "      <td>-1.359807</td>\n",
       "      <td>-0.072781</td>\n",
       "      <td>2.536347</td>\n",
       "      <td>1.378155</td>\n",
       "      <td>-0.338321</td>\n",
       "      <td>0.462388</td>\n",
       "      <td>0.239599</td>\n",
       "      <td>...</td>\n",
       "      <td>0.251412</td>\n",
       "      <td>-0.018307</td>\n",
       "      <td>0.277838</td>\n",
       "      <td>-0.110474</td>\n",
       "      <td>0.066928</td>\n",
       "      <td>0.128539</td>\n",
       "      <td>-0.189115</td>\n",
       "      <td>0.133558</td>\n",
       "      <td>-0.021053</td>\n",
       "      <td>0</td>\n",
       "    </tr>\n",
       "    <tr>\n",
       "      <th>1</th>\n",
       "      <td>-0.269825</td>\n",
       "      <td>2</td>\n",
       "      <td>0.0</td>\n",
       "      <td>1.191857</td>\n",
       "      <td>0.266151</td>\n",
       "      <td>0.166480</td>\n",
       "      <td>0.448154</td>\n",
       "      <td>0.060018</td>\n",
       "      <td>-0.082361</td>\n",
       "      <td>-0.078803</td>\n",
       "      <td>...</td>\n",
       "      <td>-0.069083</td>\n",
       "      <td>-0.225775</td>\n",
       "      <td>-0.638672</td>\n",
       "      <td>0.101288</td>\n",
       "      <td>-0.339846</td>\n",
       "      <td>0.167170</td>\n",
       "      <td>0.125895</td>\n",
       "      <td>-0.008983</td>\n",
       "      <td>0.014724</td>\n",
       "      <td>0</td>\n",
       "    </tr>\n",
       "    <tr>\n",
       "      <th>2</th>\n",
       "      <td>4.983721</td>\n",
       "      <td>3</td>\n",
       "      <td>1.0</td>\n",
       "      <td>-1.358354</td>\n",
       "      <td>-1.340163</td>\n",
       "      <td>1.773209</td>\n",
       "      <td>0.379780</td>\n",
       "      <td>-0.503198</td>\n",
       "      <td>1.800499</td>\n",
       "      <td>0.791461</td>\n",
       "      <td>...</td>\n",
       "      <td>0.524980</td>\n",
       "      <td>0.247998</td>\n",
       "      <td>0.771679</td>\n",
       "      <td>0.909412</td>\n",
       "      <td>-0.689281</td>\n",
       "      <td>-0.327642</td>\n",
       "      <td>-0.139097</td>\n",
       "      <td>-0.055353</td>\n",
       "      <td>-0.059752</td>\n",
       "      <td>0</td>\n",
       "    </tr>\n",
       "    <tr>\n",
       "      <th>3</th>\n",
       "      <td>1.418291</td>\n",
       "      <td>4</td>\n",
       "      <td>1.0</td>\n",
       "      <td>-0.966272</td>\n",
       "      <td>-0.185226</td>\n",
       "      <td>1.792993</td>\n",
       "      <td>-0.863291</td>\n",
       "      <td>-0.010309</td>\n",
       "      <td>1.247203</td>\n",
       "      <td>0.237609</td>\n",
       "      <td>...</td>\n",
       "      <td>-0.208038</td>\n",
       "      <td>-0.108300</td>\n",
       "      <td>0.005274</td>\n",
       "      <td>-0.190321</td>\n",
       "      <td>-1.175575</td>\n",
       "      <td>0.647376</td>\n",
       "      <td>-0.221929</td>\n",
       "      <td>0.062723</td>\n",
       "      <td>0.061458</td>\n",
       "      <td>0</td>\n",
       "    </tr>\n",
       "    <tr>\n",
       "      <th>4</th>\n",
       "      <td>0.670579</td>\n",
       "      <td>5</td>\n",
       "      <td>2.0</td>\n",
       "      <td>-1.158233</td>\n",
       "      <td>0.877737</td>\n",
       "      <td>1.548718</td>\n",
       "      <td>0.403034</td>\n",
       "      <td>-0.407193</td>\n",
       "      <td>0.095921</td>\n",
       "      <td>0.592941</td>\n",
       "      <td>...</td>\n",
       "      <td>0.408542</td>\n",
       "      <td>-0.009431</td>\n",
       "      <td>0.798278</td>\n",
       "      <td>-0.137458</td>\n",
       "      <td>0.141267</td>\n",
       "      <td>-0.206010</td>\n",
       "      <td>0.502292</td>\n",
       "      <td>0.219422</td>\n",
       "      <td>0.215153</td>\n",
       "      <td>0</td>\n",
       "    </tr>\n",
       "  </tbody>\n",
       "</table>\n",
       "<p>5 rows × 32 columns</p>\n",
       "</div>"
      ],
      "text/plain": [
       "   scaled_amount  Unnamed: 0  Time        V1        V2        V3        V4  \\\n",
       "0       1.783274           1   0.0 -1.359807 -0.072781  2.536347  1.378155   \n",
       "1      -0.269825           2   0.0  1.191857  0.266151  0.166480  0.448154   \n",
       "2       4.983721           3   1.0 -1.358354 -1.340163  1.773209  0.379780   \n",
       "3       1.418291           4   1.0 -0.966272 -0.185226  1.792993 -0.863291   \n",
       "4       0.670579           5   2.0 -1.158233  0.877737  1.548718  0.403034   \n",
       "\n",
       "         V5        V6        V7  ...       V20       V21       V22       V23  \\\n",
       "0 -0.338321  0.462388  0.239599  ...  0.251412 -0.018307  0.277838 -0.110474   \n",
       "1  0.060018 -0.082361 -0.078803  ... -0.069083 -0.225775 -0.638672  0.101288   \n",
       "2 -0.503198  1.800499  0.791461  ...  0.524980  0.247998  0.771679  0.909412   \n",
       "3 -0.010309  1.247203  0.237609  ... -0.208038 -0.108300  0.005274 -0.190321   \n",
       "4 -0.407193  0.095921  0.592941  ...  0.408542 -0.009431  0.798278 -0.137458   \n",
       "\n",
       "        V24       V25       V26       V27       V28  Class  \n",
       "0  0.066928  0.128539 -0.189115  0.133558 -0.021053      0  \n",
       "1 -0.339846  0.167170  0.125895 -0.008983  0.014724      0  \n",
       "2 -0.689281 -0.327642 -0.139097 -0.055353 -0.059752      0  \n",
       "3 -1.175575  0.647376 -0.221929  0.062723  0.061458      0  \n",
       "4  0.141267 -0.206010  0.502292  0.219422  0.215153      0  \n",
       "\n",
       "[5 rows x 32 columns]"
      ]
     },
     "execution_count": 27,
     "metadata": {},
     "output_type": "execute_result"
    }
   ],
   "source": [
    "# Amount is Scaled!\n",
    "df.head()"
   ]
  },
  {
   "cell_type": "markdown",
   "metadata": {
    "tags": []
   },
   "source": [
    "**EXERCISE:** Scale the Time Column"
   ]
  },
  {
   "cell_type": "markdown",
   "metadata": {
    "tags": []
   },
   "source": [
    "### Splitting the DataFrame\n",
    "\n",
    "Before proceeding with any <b> Sampling technique</b> we have to separate the orginal dataframe.<br> \n",
    "<b> Why? for testing purposes, we want to test our models on the original testing set not on the testing set created by either of these techniques.</b><br> The main goal is to fit the model either with the dataframes that were undersample and oversample (in order for our models to detect the patterns), and test it on the original testing set. "
   ]
  },
  {
   "cell_type": "code",
   "execution_count": 28,
   "metadata": {
    "tags": []
   },
   "outputs": [],
   "source": [
    "ss = StratifiedShuffleSplit(n_splits=1,\n",
    "                            test_size=0.2,\n",
    "                            train_size=0.8,\n",
    "                            random_state=42)"
   ]
  },
  {
   "cell_type": "code",
   "execution_count": 29,
   "metadata": {
    "tags": []
   },
   "outputs": [],
   "source": [
    "X = df.drop('Class', axis=1)\n",
    "y = df['Class']"
   ]
  },
  {
   "cell_type": "code",
   "execution_count": 30,
   "metadata": {
    "tags": []
   },
   "outputs": [],
   "source": [
    "for train_index, test_index in ss.split(X, y):\n",
    "    train_df = df.iloc[train_index]\n",
    "    test_df = df.iloc[test_index]"
   ]
  },
  {
   "cell_type": "code",
   "execution_count": 31,
   "metadata": {},
   "outputs": [
    {
     "data": {
      "text/plain": [
       "array([265518, 180305,  42664, ...,  29062,  13766,  17677], dtype=int64)"
      ]
     },
     "execution_count": 31,
     "metadata": {},
     "output_type": "execute_result"
    }
   ],
   "source": [
    "train_index"
   ]
  },
  {
   "cell_type": "code",
   "execution_count": 32,
   "metadata": {},
   "outputs": [
    {
     "data": {
      "text/plain": [
       "array([263020,  11378, 147283, ..., 274532, 269819,  64170], dtype=int64)"
      ]
     },
     "execution_count": 32,
     "metadata": {},
     "output_type": "execute_result"
    }
   ],
   "source": [
    "test_index"
   ]
  },
  {
   "cell_type": "code",
   "execution_count": 33,
   "metadata": {
    "tags": []
   },
   "outputs": [
    {
     "data": {
      "text/html": [
       "<div>\n",
       "<style scoped>\n",
       "    .dataframe tbody tr th:only-of-type {\n",
       "        vertical-align: middle;\n",
       "    }\n",
       "\n",
       "    .dataframe tbody tr th {\n",
       "        vertical-align: top;\n",
       "    }\n",
       "\n",
       "    .dataframe thead th {\n",
       "        text-align: right;\n",
       "    }\n",
       "</style>\n",
       "<table border=\"1\" class=\"dataframe\">\n",
       "  <thead>\n",
       "    <tr style=\"text-align: right;\">\n",
       "      <th></th>\n",
       "      <th>scaled_amount</th>\n",
       "      <th>Unnamed: 0</th>\n",
       "      <th>Time</th>\n",
       "      <th>V1</th>\n",
       "      <th>V2</th>\n",
       "      <th>V3</th>\n",
       "      <th>V4</th>\n",
       "      <th>V5</th>\n",
       "      <th>V6</th>\n",
       "      <th>V7</th>\n",
       "      <th>...</th>\n",
       "      <th>V20</th>\n",
       "      <th>V21</th>\n",
       "      <th>V22</th>\n",
       "      <th>V23</th>\n",
       "      <th>V24</th>\n",
       "      <th>V25</th>\n",
       "      <th>V26</th>\n",
       "      <th>V27</th>\n",
       "      <th>V28</th>\n",
       "      <th>Class</th>\n",
       "    </tr>\n",
       "  </thead>\n",
       "  <tbody>\n",
       "    <tr>\n",
       "      <th>265518</th>\n",
       "      <td>-0.205128</td>\n",
       "      <td>265519</td>\n",
       "      <td>161919.0</td>\n",
       "      <td>1.946747</td>\n",
       "      <td>-0.752526</td>\n",
       "      <td>-1.355130</td>\n",
       "      <td>-0.661630</td>\n",
       "      <td>1.502822</td>\n",
       "      <td>4.024933</td>\n",
       "      <td>-1.479661</td>\n",
       "      <td>...</td>\n",
       "      <td>-0.134435</td>\n",
       "      <td>0.076197</td>\n",
       "      <td>0.297537</td>\n",
       "      <td>0.307915</td>\n",
       "      <td>0.690980</td>\n",
       "      <td>-0.350316</td>\n",
       "      <td>-0.388907</td>\n",
       "      <td>0.077641</td>\n",
       "      <td>-0.032248</td>\n",
       "      <td>0</td>\n",
       "    </tr>\n",
       "    <tr>\n",
       "      <th>180305</th>\n",
       "      <td>-0.265633</td>\n",
       "      <td>180306</td>\n",
       "      <td>124477.0</td>\n",
       "      <td>2.035149</td>\n",
       "      <td>-0.048880</td>\n",
       "      <td>-3.058693</td>\n",
       "      <td>0.247945</td>\n",
       "      <td>2.943487</td>\n",
       "      <td>3.298697</td>\n",
       "      <td>-0.002192</td>\n",
       "      <td>...</td>\n",
       "      <td>-0.227279</td>\n",
       "      <td>0.038628</td>\n",
       "      <td>0.228197</td>\n",
       "      <td>0.035542</td>\n",
       "      <td>0.707090</td>\n",
       "      <td>0.512885</td>\n",
       "      <td>-0.471198</td>\n",
       "      <td>0.002520</td>\n",
       "      <td>-0.069002</td>\n",
       "      <td>0</td>\n",
       "    </tr>\n",
       "    <tr>\n",
       "      <th>42664</th>\n",
       "      <td>2.139314</td>\n",
       "      <td>42665</td>\n",
       "      <td>41191.0</td>\n",
       "      <td>-0.991920</td>\n",
       "      <td>0.603193</td>\n",
       "      <td>0.711976</td>\n",
       "      <td>-0.992425</td>\n",
       "      <td>-0.825838</td>\n",
       "      <td>1.956261</td>\n",
       "      <td>-2.212603</td>\n",
       "      <td>...</td>\n",
       "      <td>1.280856</td>\n",
       "      <td>-2.798352</td>\n",
       "      <td>0.109526</td>\n",
       "      <td>-0.436530</td>\n",
       "      <td>-0.932803</td>\n",
       "      <td>0.826684</td>\n",
       "      <td>0.913773</td>\n",
       "      <td>0.038049</td>\n",
       "      <td>0.185340</td>\n",
       "      <td>0</td>\n",
       "    </tr>\n",
       "    <tr>\n",
       "      <th>198723</th>\n",
       "      <td>-0.222176</td>\n",
       "      <td>198724</td>\n",
       "      <td>132624.0</td>\n",
       "      <td>2.285718</td>\n",
       "      <td>-1.500239</td>\n",
       "      <td>-0.747565</td>\n",
       "      <td>-1.668119</td>\n",
       "      <td>-1.394143</td>\n",
       "      <td>-0.350339</td>\n",
       "      <td>-1.427984</td>\n",
       "      <td>...</td>\n",
       "      <td>-0.490642</td>\n",
       "      <td>-0.139670</td>\n",
       "      <td>0.077013</td>\n",
       "      <td>0.208310</td>\n",
       "      <td>-0.538236</td>\n",
       "      <td>-0.278032</td>\n",
       "      <td>-0.162068</td>\n",
       "      <td>0.018045</td>\n",
       "      <td>-0.063005</td>\n",
       "      <td>0</td>\n",
       "    </tr>\n",
       "    <tr>\n",
       "      <th>82325</th>\n",
       "      <td>0.895689</td>\n",
       "      <td>82326</td>\n",
       "      <td>59359.0</td>\n",
       "      <td>-0.448747</td>\n",
       "      <td>-1.011440</td>\n",
       "      <td>0.115903</td>\n",
       "      <td>-3.454854</td>\n",
       "      <td>0.715771</td>\n",
       "      <td>-0.147490</td>\n",
       "      <td>0.504347</td>\n",
       "      <td>...</td>\n",
       "      <td>-0.275297</td>\n",
       "      <td>-0.243245</td>\n",
       "      <td>-0.173298</td>\n",
       "      <td>-0.006692</td>\n",
       "      <td>-1.362383</td>\n",
       "      <td>-0.292234</td>\n",
       "      <td>-0.144622</td>\n",
       "      <td>-0.032580</td>\n",
       "      <td>-0.064194</td>\n",
       "      <td>0</td>\n",
       "    </tr>\n",
       "    <tr>\n",
       "      <th>...</th>\n",
       "      <td>...</td>\n",
       "      <td>...</td>\n",
       "      <td>...</td>\n",
       "      <td>...</td>\n",
       "      <td>...</td>\n",
       "      <td>...</td>\n",
       "      <td>...</td>\n",
       "      <td>...</td>\n",
       "      <td>...</td>\n",
       "      <td>...</td>\n",
       "      <td>...</td>\n",
       "      <td>...</td>\n",
       "      <td>...</td>\n",
       "      <td>...</td>\n",
       "      <td>...</td>\n",
       "      <td>...</td>\n",
       "      <td>...</td>\n",
       "      <td>...</td>\n",
       "      <td>...</td>\n",
       "      <td>...</td>\n",
       "      <td>...</td>\n",
       "    </tr>\n",
       "    <tr>\n",
       "      <th>233802</th>\n",
       "      <td>-0.223713</td>\n",
       "      <td>233803</td>\n",
       "      <td>147710.0</td>\n",
       "      <td>1.993864</td>\n",
       "      <td>-0.516866</td>\n",
       "      <td>-0.620118</td>\n",
       "      <td>0.129845</td>\n",
       "      <td>-0.285128</td>\n",
       "      <td>0.395044</td>\n",
       "      <td>-0.822358</td>\n",
       "      <td>...</td>\n",
       "      <td>-0.174051</td>\n",
       "      <td>0.262526</td>\n",
       "      <td>0.884510</td>\n",
       "      <td>0.099141</td>\n",
       "      <td>0.275689</td>\n",
       "      <td>-0.195404</td>\n",
       "      <td>0.623598</td>\n",
       "      <td>-0.032455</td>\n",
       "      <td>-0.058552</td>\n",
       "      <td>0</td>\n",
       "    </tr>\n",
       "    <tr>\n",
       "      <th>85418</th>\n",
       "      <td>0.209460</td>\n",
       "      <td>85419</td>\n",
       "      <td>60764.0</td>\n",
       "      <td>-1.497933</td>\n",
       "      <td>0.657921</td>\n",
       "      <td>1.581568</td>\n",
       "      <td>-0.024286</td>\n",
       "      <td>0.584698</td>\n",
       "      <td>1.303031</td>\n",
       "      <td>0.609212</td>\n",
       "      <td>...</td>\n",
       "      <td>-0.225079</td>\n",
       "      <td>-0.072452</td>\n",
       "      <td>0.299172</td>\n",
       "      <td>0.110048</td>\n",
       "      <td>-0.615980</td>\n",
       "      <td>-0.425883</td>\n",
       "      <td>0.263968</td>\n",
       "      <td>-0.448445</td>\n",
       "      <td>0.045178</td>\n",
       "      <td>0</td>\n",
       "    </tr>\n",
       "    <tr>\n",
       "      <th>29062</th>\n",
       "      <td>0.327255</td>\n",
       "      <td>29063</td>\n",
       "      <td>35301.0</td>\n",
       "      <td>1.069777</td>\n",
       "      <td>0.072105</td>\n",
       "      <td>0.496540</td>\n",
       "      <td>1.505318</td>\n",
       "      <td>-0.380277</td>\n",
       "      <td>-0.370243</td>\n",
       "      <td>0.100551</td>\n",
       "      <td>...</td>\n",
       "      <td>-0.149402</td>\n",
       "      <td>-0.061991</td>\n",
       "      <td>-0.044629</td>\n",
       "      <td>-0.050485</td>\n",
       "      <td>0.400171</td>\n",
       "      <td>0.593314</td>\n",
       "      <td>-0.335160</td>\n",
       "      <td>0.031014</td>\n",
       "      <td>0.024886</td>\n",
       "      <td>0</td>\n",
       "    </tr>\n",
       "    <tr>\n",
       "      <th>13766</th>\n",
       "      <td>-0.294977</td>\n",
       "      <td>13767</td>\n",
       "      <td>24413.0</td>\n",
       "      <td>1.280465</td>\n",
       "      <td>0.300586</td>\n",
       "      <td>0.333044</td>\n",
       "      <td>0.512720</td>\n",
       "      <td>0.065052</td>\n",
       "      <td>-0.145844</td>\n",
       "      <td>-0.145519</td>\n",
       "      <td>...</td>\n",
       "      <td>-0.093783</td>\n",
       "      <td>-0.409934</td>\n",
       "      <td>-0.961351</td>\n",
       "      <td>0.033153</td>\n",
       "      <td>-0.560429</td>\n",
       "      <td>0.278428</td>\n",
       "      <td>0.089546</td>\n",
       "      <td>-0.059835</td>\n",
       "      <td>-0.005887</td>\n",
       "      <td>0</td>\n",
       "    </tr>\n",
       "    <tr>\n",
       "      <th>17677</th>\n",
       "      <td>-0.209739</td>\n",
       "      <td>17678</td>\n",
       "      <td>28847.0</td>\n",
       "      <td>-0.598120</td>\n",
       "      <td>0.775041</td>\n",
       "      <td>1.823394</td>\n",
       "      <td>0.312991</td>\n",
       "      <td>-0.096171</td>\n",
       "      <td>-0.391452</td>\n",
       "      <td>0.499351</td>\n",
       "      <td>...</td>\n",
       "      <td>0.102259</td>\n",
       "      <td>0.060615</td>\n",
       "      <td>0.568083</td>\n",
       "      <td>-0.084001</td>\n",
       "      <td>0.685003</td>\n",
       "      <td>-0.245859</td>\n",
       "      <td>0.356638</td>\n",
       "      <td>0.378580</td>\n",
       "      <td>0.206366</td>\n",
       "      <td>0</td>\n",
       "    </tr>\n",
       "  </tbody>\n",
       "</table>\n",
       "<p>227845 rows × 32 columns</p>\n",
       "</div>"
      ],
      "text/plain": [
       "        scaled_amount  Unnamed: 0      Time        V1        V2        V3  \\\n",
       "265518      -0.205128      265519  161919.0  1.946747 -0.752526 -1.355130   \n",
       "180305      -0.265633      180306  124477.0  2.035149 -0.048880 -3.058693   \n",
       "42664        2.139314       42665   41191.0 -0.991920  0.603193  0.711976   \n",
       "198723      -0.222176      198724  132624.0  2.285718 -1.500239 -0.747565   \n",
       "82325        0.895689       82326   59359.0 -0.448747 -1.011440  0.115903   \n",
       "...               ...         ...       ...       ...       ...       ...   \n",
       "233802      -0.223713      233803  147710.0  1.993864 -0.516866 -0.620118   \n",
       "85418        0.209460       85419   60764.0 -1.497933  0.657921  1.581568   \n",
       "29062        0.327255       29063   35301.0  1.069777  0.072105  0.496540   \n",
       "13766       -0.294977       13767   24413.0  1.280465  0.300586  0.333044   \n",
       "17677       -0.209739       17678   28847.0 -0.598120  0.775041  1.823394   \n",
       "\n",
       "              V4        V5        V6        V7  ...       V20       V21  \\\n",
       "265518 -0.661630  1.502822  4.024933 -1.479661  ... -0.134435  0.076197   \n",
       "180305  0.247945  2.943487  3.298697 -0.002192  ... -0.227279  0.038628   \n",
       "42664  -0.992425 -0.825838  1.956261 -2.212603  ...  1.280856 -2.798352   \n",
       "198723 -1.668119 -1.394143 -0.350339 -1.427984  ... -0.490642 -0.139670   \n",
       "82325  -3.454854  0.715771 -0.147490  0.504347  ... -0.275297 -0.243245   \n",
       "...          ...       ...       ...       ...  ...       ...       ...   \n",
       "233802  0.129845 -0.285128  0.395044 -0.822358  ... -0.174051  0.262526   \n",
       "85418  -0.024286  0.584698  1.303031  0.609212  ... -0.225079 -0.072452   \n",
       "29062   1.505318 -0.380277 -0.370243  0.100551  ... -0.149402 -0.061991   \n",
       "13766   0.512720  0.065052 -0.145844 -0.145519  ... -0.093783 -0.409934   \n",
       "17677   0.312991 -0.096171 -0.391452  0.499351  ...  0.102259  0.060615   \n",
       "\n",
       "             V22       V23       V24       V25       V26       V27       V28  \\\n",
       "265518  0.297537  0.307915  0.690980 -0.350316 -0.388907  0.077641 -0.032248   \n",
       "180305  0.228197  0.035542  0.707090  0.512885 -0.471198  0.002520 -0.069002   \n",
       "42664   0.109526 -0.436530 -0.932803  0.826684  0.913773  0.038049  0.185340   \n",
       "198723  0.077013  0.208310 -0.538236 -0.278032 -0.162068  0.018045 -0.063005   \n",
       "82325  -0.173298 -0.006692 -1.362383 -0.292234 -0.144622 -0.032580 -0.064194   \n",
       "...          ...       ...       ...       ...       ...       ...       ...   \n",
       "233802  0.884510  0.099141  0.275689 -0.195404  0.623598 -0.032455 -0.058552   \n",
       "85418   0.299172  0.110048 -0.615980 -0.425883  0.263968 -0.448445  0.045178   \n",
       "29062  -0.044629 -0.050485  0.400171  0.593314 -0.335160  0.031014  0.024886   \n",
       "13766  -0.961351  0.033153 -0.560429  0.278428  0.089546 -0.059835 -0.005887   \n",
       "17677   0.568083 -0.084001  0.685003 -0.245859  0.356638  0.378580  0.206366   \n",
       "\n",
       "        Class  \n",
       "265518      0  \n",
       "180305      0  \n",
       "42664       0  \n",
       "198723      0  \n",
       "82325       0  \n",
       "...       ...  \n",
       "233802      0  \n",
       "85418       0  \n",
       "29062       0  \n",
       "13766       0  \n",
       "17677       0  \n",
       "\n",
       "[227845 rows x 32 columns]"
      ]
     },
     "execution_count": 33,
     "metadata": {},
     "output_type": "execute_result"
    }
   ],
   "source": [
    "df.iloc[train_index]"
   ]
  },
  {
   "cell_type": "code",
   "execution_count": 34,
   "metadata": {},
   "outputs": [
    {
     "data": {
      "text/plain": [
       "(227845, 32)"
      ]
     },
     "execution_count": 34,
     "metadata": {},
     "output_type": "execute_result"
    }
   ],
   "source": [
    "train_df.shape"
   ]
  },
  {
   "cell_type": "code",
   "execution_count": 35,
   "metadata": {},
   "outputs": [
    {
     "data": {
      "text/plain": [
       "(56962, 32)"
      ]
     },
     "execution_count": 35,
     "metadata": {},
     "output_type": "execute_result"
    }
   ],
   "source": [
    "test_df.shape"
   ]
  },
  {
   "cell_type": "code",
   "execution_count": 36,
   "metadata": {
    "tags": []
   },
   "outputs": [
    {
     "name": "stdout",
     "output_type": "stream",
     "text": [
      "Distributions: \n",
      "\n",
      "Train Set\n",
      "0    227451\n",
      "1       394\n",
      "Name: Class, dtype: int64\n",
      "\n",
      "Test Set\n",
      "0    56864\n",
      "1       98\n",
      "Name: Class, dtype: int64\n",
      "\n",
      "Percentage:\n",
      "\n",
      "Train Set\n",
      "0    99.827075\n",
      "1     0.172925\n",
      "Name: Class, dtype: float64\n",
      "\n",
      "Test Set\n",
      "0    99.827955\n",
      "1     0.172045\n",
      "Name: Class, dtype: float64\n"
     ]
    }
   ],
   "source": [
    "print('Distributions: \\n')\n",
    "print(\"Train Set\")\n",
    "print(train_df.Class.value_counts())\n",
    "print(\"\\nTest Set\")\n",
    "print(test_df.Class.value_counts())\n",
    "print(\"\\nPercentage:\")\n",
    "print(\"\\nTrain Set\")\n",
    "print((train_df.Class.value_counts()/ len(train_df))*100)\n",
    "print(\"\\nTest Set\")\n",
    "print((test_df.Class.value_counts()/ len(test_df))*100)"
   ]
  },
  {
   "cell_type": "markdown",
   "metadata": {
    "tags": []
   },
   "source": [
    "### Random Under-Sampling:\n",
    "\n",
    "Implement *\"Random Under Sampling\"* which basically consists of removing data in order to have a more <b> balanced dataset </b> and thus avoiding our models to overfitting.\n",
    "\n",
    "**Steps:**\n",
    "<ul>\n",
    "<li>The first thing we have to do is determine how <b>imbalanced</b> is our class (use \"value_counts()\" on the class column to determine the amount for each label)  </li>\n",
    "<li>Once we determine how many instances are considered <b>fraud transactions </b> (Fraud = \"1\") , we should bring the <b>non-fraud transactions</b> to the same amount as fraud transactions (assuming we want a 50/50 ratio), this will be equivalent to 492 cases of fraud and 492 cases of non-fraud transactions.  </li>\n",
    "<li> After implementing this technique, we have a sub-sample of our dataframe with a 50/50 ratio with regards to our classes. Then the next step we will implement is to <b>shuffle the data</b> to see if our models can maintain a certain accuracy everytime we run this script.</li>\n",
    "</ul>\n",
    "\n",
    "**Note:** The main issue with \"Random Under-Sampling\" is that we run the risk that our classification models will not perform as accurate as we would like to since there is a great deal of <b>information loss</b> (randomly picking 394 non-fraud transaction  from 2,27,451 non-fraud transactions)"
   ]
  },
  {
   "cell_type": "code",
   "execution_count": 37,
   "metadata": {
    "tags": []
   },
   "outputs": [],
   "source": [
    "# Lets shuffle the data before creating the subsamples\n",
    "train_df = train_df.sample(frac=1)"
   ]
  },
  {
   "cell_type": "code",
   "execution_count": 38,
   "metadata": {},
   "outputs": [
    {
     "data": {
      "text/html": [
       "<div>\n",
       "<style scoped>\n",
       "    .dataframe tbody tr th:only-of-type {\n",
       "        vertical-align: middle;\n",
       "    }\n",
       "\n",
       "    .dataframe tbody tr th {\n",
       "        vertical-align: top;\n",
       "    }\n",
       "\n",
       "    .dataframe thead th {\n",
       "        text-align: right;\n",
       "    }\n",
       "</style>\n",
       "<table border=\"1\" class=\"dataframe\">\n",
       "  <thead>\n",
       "    <tr style=\"text-align: right;\">\n",
       "      <th></th>\n",
       "      <th>scaled_amount</th>\n",
       "      <th>Unnamed: 0</th>\n",
       "      <th>Time</th>\n",
       "      <th>V1</th>\n",
       "      <th>V2</th>\n",
       "      <th>V3</th>\n",
       "      <th>V4</th>\n",
       "      <th>V5</th>\n",
       "      <th>V6</th>\n",
       "      <th>V7</th>\n",
       "      <th>...</th>\n",
       "      <th>V20</th>\n",
       "      <th>V21</th>\n",
       "      <th>V22</th>\n",
       "      <th>V23</th>\n",
       "      <th>V24</th>\n",
       "      <th>V25</th>\n",
       "      <th>V26</th>\n",
       "      <th>V27</th>\n",
       "      <th>V28</th>\n",
       "      <th>Class</th>\n",
       "    </tr>\n",
       "  </thead>\n",
       "  <tbody>\n",
       "    <tr>\n",
       "      <th>13341</th>\n",
       "      <td>1.592818</td>\n",
       "      <td>13342</td>\n",
       "      <td>23535.0</td>\n",
       "      <td>0.919391</td>\n",
       "      <td>-0.358937</td>\n",
       "      <td>0.163997</td>\n",
       "      <td>0.195361</td>\n",
       "      <td>-0.118717</td>\n",
       "      <td>0.170339</td>\n",
       "      <td>-0.082684</td>\n",
       "      <td>...</td>\n",
       "      <td>0.095272</td>\n",
       "      <td>0.010106</td>\n",
       "      <td>0.038430</td>\n",
       "      <td>-0.090397</td>\n",
       "      <td>-0.254736</td>\n",
       "      <td>0.139015</td>\n",
       "      <td>1.027888</td>\n",
       "      <td>-0.113085</td>\n",
       "      <td>-0.000992</td>\n",
       "      <td>0</td>\n",
       "    </tr>\n",
       "    <tr>\n",
       "      <th>144461</th>\n",
       "      <td>1.858311</td>\n",
       "      <td>144462</td>\n",
       "      <td>86142.0</td>\n",
       "      <td>0.976459</td>\n",
       "      <td>0.124219</td>\n",
       "      <td>0.278652</td>\n",
       "      <td>2.263769</td>\n",
       "      <td>0.272891</td>\n",
       "      <td>0.486166</td>\n",
       "      <td>0.198848</td>\n",
       "      <td>...</td>\n",
       "      <td>0.298372</td>\n",
       "      <td>-0.195539</td>\n",
       "      <td>-0.907044</td>\n",
       "      <td>-0.167065</td>\n",
       "      <td>-1.016435</td>\n",
       "      <td>0.357505</td>\n",
       "      <td>-0.192691</td>\n",
       "      <td>-0.015306</td>\n",
       "      <td>0.048689</td>\n",
       "      <td>0</td>\n",
       "    </tr>\n",
       "    <tr>\n",
       "      <th>92414</th>\n",
       "      <td>-0.269825</td>\n",
       "      <td>92415</td>\n",
       "      <td>63922.0</td>\n",
       "      <td>0.043455</td>\n",
       "      <td>0.985073</td>\n",
       "      <td>0.520996</td>\n",
       "      <td>0.713213</td>\n",
       "      <td>0.635452</td>\n",
       "      <td>-0.449527</td>\n",
       "      <td>1.137316</td>\n",
       "      <td>...</td>\n",
       "      <td>0.206712</td>\n",
       "      <td>0.078524</td>\n",
       "      <td>0.799022</td>\n",
       "      <td>0.000950</td>\n",
       "      <td>0.201554</td>\n",
       "      <td>-0.887311</td>\n",
       "      <td>-0.463935</td>\n",
       "      <td>0.222951</td>\n",
       "      <td>-0.168614</td>\n",
       "      <td>0</td>\n",
       "    </tr>\n",
       "    <tr>\n",
       "      <th>87322</th>\n",
       "      <td>0.499406</td>\n",
       "      <td>87323</td>\n",
       "      <td>61634.0</td>\n",
       "      <td>1.103299</td>\n",
       "      <td>-0.067842</td>\n",
       "      <td>0.158375</td>\n",
       "      <td>0.686546</td>\n",
       "      <td>-0.551064</td>\n",
       "      <td>-1.053346</td>\n",
       "      <td>0.183233</td>\n",
       "      <td>...</td>\n",
       "      <td>-0.170515</td>\n",
       "      <td>0.010422</td>\n",
       "      <td>-0.121390</td>\n",
       "      <td>0.017268</td>\n",
       "      <td>0.610278</td>\n",
       "      <td>0.317656</td>\n",
       "      <td>0.470297</td>\n",
       "      <td>-0.065593</td>\n",
       "      <td>0.011498</td>\n",
       "      <td>0</td>\n",
       "    </tr>\n",
       "    <tr>\n",
       "      <th>7538</th>\n",
       "      <td>-0.146720</td>\n",
       "      <td>7539</td>\n",
       "      <td>10311.0</td>\n",
       "      <td>0.364827</td>\n",
       "      <td>0.184528</td>\n",
       "      <td>1.767462</td>\n",
       "      <td>0.534418</td>\n",
       "      <td>-0.413319</td>\n",
       "      <td>-0.083546</td>\n",
       "      <td>-0.163918</td>\n",
       "      <td>...</td>\n",
       "      <td>-0.122299</td>\n",
       "      <td>-0.230930</td>\n",
       "      <td>-0.122954</td>\n",
       "      <td>0.089885</td>\n",
       "      <td>-0.030256</td>\n",
       "      <td>-0.674837</td>\n",
       "      <td>0.133205</td>\n",
       "      <td>-0.200304</td>\n",
       "      <td>-0.291796</td>\n",
       "      <td>0</td>\n",
       "    </tr>\n",
       "    <tr>\n",
       "      <th>...</th>\n",
       "      <td>...</td>\n",
       "      <td>...</td>\n",
       "      <td>...</td>\n",
       "      <td>...</td>\n",
       "      <td>...</td>\n",
       "      <td>...</td>\n",
       "      <td>...</td>\n",
       "      <td>...</td>\n",
       "      <td>...</td>\n",
       "      <td>...</td>\n",
       "      <td>...</td>\n",
       "      <td>...</td>\n",
       "      <td>...</td>\n",
       "      <td>...</td>\n",
       "      <td>...</td>\n",
       "      <td>...</td>\n",
       "      <td>...</td>\n",
       "      <td>...</td>\n",
       "      <td>...</td>\n",
       "      <td>...</td>\n",
       "      <td>...</td>\n",
       "    </tr>\n",
       "    <tr>\n",
       "      <th>95292</th>\n",
       "      <td>-0.307413</td>\n",
       "      <td>95293</td>\n",
       "      <td>65242.0</td>\n",
       "      <td>-0.631701</td>\n",
       "      <td>1.049422</td>\n",
       "      <td>1.452194</td>\n",
       "      <td>2.576940</td>\n",
       "      <td>0.534141</td>\n",
       "      <td>-0.231687</td>\n",
       "      <td>0.583737</td>\n",
       "      <td>...</td>\n",
       "      <td>-0.029957</td>\n",
       "      <td>0.191249</td>\n",
       "      <td>0.602310</td>\n",
       "      <td>0.204187</td>\n",
       "      <td>0.418955</td>\n",
       "      <td>-0.307745</td>\n",
       "      <td>0.082757</td>\n",
       "      <td>-0.193404</td>\n",
       "      <td>0.147585</td>\n",
       "      <td>0</td>\n",
       "    </tr>\n",
       "    <tr>\n",
       "      <th>14180</th>\n",
       "      <td>1.376790</td>\n",
       "      <td>14181</td>\n",
       "      <td>25213.0</td>\n",
       "      <td>-0.493876</td>\n",
       "      <td>0.684138</td>\n",
       "      <td>1.844956</td>\n",
       "      <td>0.816149</td>\n",
       "      <td>-0.620155</td>\n",
       "      <td>-0.248437</td>\n",
       "      <td>1.257436</td>\n",
       "      <td>...</td>\n",
       "      <td>-0.067721</td>\n",
       "      <td>-0.006462</td>\n",
       "      <td>0.332250</td>\n",
       "      <td>-0.181242</td>\n",
       "      <td>0.718239</td>\n",
       "      <td>0.201906</td>\n",
       "      <td>-0.386271</td>\n",
       "      <td>-0.162314</td>\n",
       "      <td>-0.190629</td>\n",
       "      <td>0</td>\n",
       "    </tr>\n",
       "    <tr>\n",
       "      <th>19421</th>\n",
       "      <td>-0.232236</td>\n",
       "      <td>19422</td>\n",
       "      <td>30264.0</td>\n",
       "      <td>-0.314496</td>\n",
       "      <td>1.205763</td>\n",
       "      <td>1.164643</td>\n",
       "      <td>-0.033338</td>\n",
       "      <td>0.294177</td>\n",
       "      <td>-0.743782</td>\n",
       "      <td>0.794121</td>\n",
       "      <td>...</td>\n",
       "      <td>0.202264</td>\n",
       "      <td>-0.273375</td>\n",
       "      <td>-0.660949</td>\n",
       "      <td>-0.069127</td>\n",
       "      <td>0.005213</td>\n",
       "      <td>-0.073130</td>\n",
       "      <td>0.090236</td>\n",
       "      <td>0.252157</td>\n",
       "      <td>0.097157</td>\n",
       "      <td>0</td>\n",
       "    </tr>\n",
       "    <tr>\n",
       "      <th>198102</th>\n",
       "      <td>0.661217</td>\n",
       "      <td>198103</td>\n",
       "      <td>132333.0</td>\n",
       "      <td>1.908849</td>\n",
       "      <td>-0.040217</td>\n",
       "      <td>-1.670517</td>\n",
       "      <td>0.474229</td>\n",
       "      <td>0.157995</td>\n",
       "      <td>-1.093715</td>\n",
       "      <td>0.269766</td>\n",
       "      <td>...</td>\n",
       "      <td>0.010637</td>\n",
       "      <td>-0.200780</td>\n",
       "      <td>-0.378622</td>\n",
       "      <td>0.107054</td>\n",
       "      <td>-0.249158</td>\n",
       "      <td>-0.039482</td>\n",
       "      <td>-0.086242</td>\n",
       "      <td>-0.007004</td>\n",
       "      <td>-0.010389</td>\n",
       "      <td>0</td>\n",
       "    </tr>\n",
       "    <tr>\n",
       "      <th>226705</th>\n",
       "      <td>2.964857</td>\n",
       "      <td>226706</td>\n",
       "      <td>144763.0</td>\n",
       "      <td>-1.841173</td>\n",
       "      <td>-0.796002</td>\n",
       "      <td>1.886521</td>\n",
       "      <td>0.579820</td>\n",
       "      <td>0.398037</td>\n",
       "      <td>-0.365021</td>\n",
       "      <td>0.532746</td>\n",
       "      <td>...</td>\n",
       "      <td>0.637447</td>\n",
       "      <td>0.453427</td>\n",
       "      <td>0.537048</td>\n",
       "      <td>0.319734</td>\n",
       "      <td>1.078898</td>\n",
       "      <td>0.785480</td>\n",
       "      <td>-0.494538</td>\n",
       "      <td>-0.043501</td>\n",
       "      <td>0.117334</td>\n",
       "      <td>0</td>\n",
       "    </tr>\n",
       "  </tbody>\n",
       "</table>\n",
       "<p>227845 rows × 32 columns</p>\n",
       "</div>"
      ],
      "text/plain": [
       "        scaled_amount  Unnamed: 0      Time        V1        V2        V3  \\\n",
       "13341        1.592818       13342   23535.0  0.919391 -0.358937  0.163997   \n",
       "144461       1.858311      144462   86142.0  0.976459  0.124219  0.278652   \n",
       "92414       -0.269825       92415   63922.0  0.043455  0.985073  0.520996   \n",
       "87322        0.499406       87323   61634.0  1.103299 -0.067842  0.158375   \n",
       "7538        -0.146720        7539   10311.0  0.364827  0.184528  1.767462   \n",
       "...               ...         ...       ...       ...       ...       ...   \n",
       "95292       -0.307413       95293   65242.0 -0.631701  1.049422  1.452194   \n",
       "14180        1.376790       14181   25213.0 -0.493876  0.684138  1.844956   \n",
       "19421       -0.232236       19422   30264.0 -0.314496  1.205763  1.164643   \n",
       "198102       0.661217      198103  132333.0  1.908849 -0.040217 -1.670517   \n",
       "226705       2.964857      226706  144763.0 -1.841173 -0.796002  1.886521   \n",
       "\n",
       "              V4        V5        V6        V7  ...       V20       V21  \\\n",
       "13341   0.195361 -0.118717  0.170339 -0.082684  ...  0.095272  0.010106   \n",
       "144461  2.263769  0.272891  0.486166  0.198848  ...  0.298372 -0.195539   \n",
       "92414   0.713213  0.635452 -0.449527  1.137316  ...  0.206712  0.078524   \n",
       "87322   0.686546 -0.551064 -1.053346  0.183233  ... -0.170515  0.010422   \n",
       "7538    0.534418 -0.413319 -0.083546 -0.163918  ... -0.122299 -0.230930   \n",
       "...          ...       ...       ...       ...  ...       ...       ...   \n",
       "95292   2.576940  0.534141 -0.231687  0.583737  ... -0.029957  0.191249   \n",
       "14180   0.816149 -0.620155 -0.248437  1.257436  ... -0.067721 -0.006462   \n",
       "19421  -0.033338  0.294177 -0.743782  0.794121  ...  0.202264 -0.273375   \n",
       "198102  0.474229  0.157995 -1.093715  0.269766  ...  0.010637 -0.200780   \n",
       "226705  0.579820  0.398037 -0.365021  0.532746  ...  0.637447  0.453427   \n",
       "\n",
       "             V22       V23       V24       V25       V26       V27       V28  \\\n",
       "13341   0.038430 -0.090397 -0.254736  0.139015  1.027888 -0.113085 -0.000992   \n",
       "144461 -0.907044 -0.167065 -1.016435  0.357505 -0.192691 -0.015306  0.048689   \n",
       "92414   0.799022  0.000950  0.201554 -0.887311 -0.463935  0.222951 -0.168614   \n",
       "87322  -0.121390  0.017268  0.610278  0.317656  0.470297 -0.065593  0.011498   \n",
       "7538   -0.122954  0.089885 -0.030256 -0.674837  0.133205 -0.200304 -0.291796   \n",
       "...          ...       ...       ...       ...       ...       ...       ...   \n",
       "95292   0.602310  0.204187  0.418955 -0.307745  0.082757 -0.193404  0.147585   \n",
       "14180   0.332250 -0.181242  0.718239  0.201906 -0.386271 -0.162314 -0.190629   \n",
       "19421  -0.660949 -0.069127  0.005213 -0.073130  0.090236  0.252157  0.097157   \n",
       "198102 -0.378622  0.107054 -0.249158 -0.039482 -0.086242 -0.007004 -0.010389   \n",
       "226705  0.537048  0.319734  1.078898  0.785480 -0.494538 -0.043501  0.117334   \n",
       "\n",
       "        Class  \n",
       "13341       0  \n",
       "144461      0  \n",
       "92414       0  \n",
       "87322       0  \n",
       "7538        0  \n",
       "...       ...  \n",
       "95292       0  \n",
       "14180       0  \n",
       "19421       0  \n",
       "198102      0  \n",
       "226705      0  \n",
       "\n",
       "[227845 rows x 32 columns]"
      ]
     },
     "execution_count": 38,
     "metadata": {},
     "output_type": "execute_result"
    }
   ],
   "source": [
    "train_df"
   ]
  },
  {
   "cell_type": "code",
   "execution_count": 39,
   "metadata": {
    "tags": []
   },
   "outputs": [],
   "source": [
    "# amount of fraud classes 394 rows\n",
    "fraud_df = train_df.loc[train_df['Class'] == 1]\n",
    "non_fraud_df = train_df.loc[train_df['Class'] == 0][:394]"
   ]
  },
  {
   "cell_type": "code",
   "execution_count": 40,
   "metadata": {
    "tags": []
   },
   "outputs": [],
   "source": [
    "normal_distributed_df = pd.concat([fraud_df, non_fraud_df])"
   ]
  },
  {
   "cell_type": "code",
   "execution_count": 41,
   "metadata": {
    "tags": []
   },
   "outputs": [],
   "source": [
    "# As fraud_df and non_fraud_df are concatenated, Shuffle dataframe rows to mix the rows\n",
    "df2 = normal_distributed_df.sample(frac=1, random_state=42)"
   ]
  },
  {
   "cell_type": "code",
   "execution_count": 42,
   "metadata": {
    "tags": []
   },
   "outputs": [
    {
     "data": {
      "text/plain": [
       "(788, 32)"
      ]
     },
     "execution_count": 42,
     "metadata": {},
     "output_type": "execute_result"
    }
   ],
   "source": [
    "df2.shape"
   ]
  },
  {
   "cell_type": "code",
   "execution_count": 43,
   "metadata": {
    "tags": []
   },
   "outputs": [
    {
     "data": {
      "text/html": [
       "<div>\n",
       "<style scoped>\n",
       "    .dataframe tbody tr th:only-of-type {\n",
       "        vertical-align: middle;\n",
       "    }\n",
       "\n",
       "    .dataframe tbody tr th {\n",
       "        vertical-align: top;\n",
       "    }\n",
       "\n",
       "    .dataframe thead th {\n",
       "        text-align: right;\n",
       "    }\n",
       "</style>\n",
       "<table border=\"1\" class=\"dataframe\">\n",
       "  <thead>\n",
       "    <tr style=\"text-align: right;\">\n",
       "      <th></th>\n",
       "      <th>scaled_amount</th>\n",
       "      <th>Unnamed: 0</th>\n",
       "      <th>Time</th>\n",
       "      <th>V1</th>\n",
       "      <th>V2</th>\n",
       "      <th>V3</th>\n",
       "      <th>V4</th>\n",
       "      <th>V5</th>\n",
       "      <th>V6</th>\n",
       "      <th>V7</th>\n",
       "      <th>...</th>\n",
       "      <th>V20</th>\n",
       "      <th>V21</th>\n",
       "      <th>V22</th>\n",
       "      <th>V23</th>\n",
       "      <th>V24</th>\n",
       "      <th>V25</th>\n",
       "      <th>V26</th>\n",
       "      <th>V27</th>\n",
       "      <th>V28</th>\n",
       "      <th>Class</th>\n",
       "    </tr>\n",
       "  </thead>\n",
       "  <tbody>\n",
       "    <tr>\n",
       "      <th>153758</th>\n",
       "      <td>0.384266</td>\n",
       "      <td>153759</td>\n",
       "      <td>100000.0</td>\n",
       "      <td>-1.408633</td>\n",
       "      <td>-1.624698</td>\n",
       "      <td>2.547742</td>\n",
       "      <td>0.385672</td>\n",
       "      <td>0.502790</td>\n",
       "      <td>0.507195</td>\n",
       "      <td>-1.744431</td>\n",
       "      <td>...</td>\n",
       "      <td>0.209033</td>\n",
       "      <td>0.217641</td>\n",
       "      <td>0.758247</td>\n",
       "      <td>0.281254</td>\n",
       "      <td>0.736608</td>\n",
       "      <td>-0.741402</td>\n",
       "      <td>0.255350</td>\n",
       "      <td>0.141944</td>\n",
       "      <td>0.228167</td>\n",
       "      <td>0</td>\n",
       "    </tr>\n",
       "    <tr>\n",
       "      <th>154633</th>\n",
       "      <td>0.000559</td>\n",
       "      <td>154634</td>\n",
       "      <td>102318.0</td>\n",
       "      <td>-1.020632</td>\n",
       "      <td>1.496959</td>\n",
       "      <td>-4.490937</td>\n",
       "      <td>1.836727</td>\n",
       "      <td>0.627318</td>\n",
       "      <td>-2.735569</td>\n",
       "      <td>-1.546274</td>\n",
       "      <td>...</td>\n",
       "      <td>0.443489</td>\n",
       "      <td>0.773631</td>\n",
       "      <td>0.860618</td>\n",
       "      <td>-0.304666</td>\n",
       "      <td>-0.155500</td>\n",
       "      <td>0.412166</td>\n",
       "      <td>-0.220080</td>\n",
       "      <td>0.392338</td>\n",
       "      <td>-0.020089</td>\n",
       "      <td>1</td>\n",
       "    </tr>\n",
       "    <tr>\n",
       "      <th>15166</th>\n",
       "      <td>1.089779</td>\n",
       "      <td>15167</td>\n",
       "      <td>26523.0</td>\n",
       "      <td>-18.474868</td>\n",
       "      <td>11.586381</td>\n",
       "      <td>-21.402917</td>\n",
       "      <td>6.038515</td>\n",
       "      <td>-14.451158</td>\n",
       "      <td>-4.146524</td>\n",
       "      <td>-14.856124</td>\n",
       "      <td>...</td>\n",
       "      <td>1.577924</td>\n",
       "      <td>1.741136</td>\n",
       "      <td>-1.251138</td>\n",
       "      <td>-0.396219</td>\n",
       "      <td>0.095706</td>\n",
       "      <td>1.322751</td>\n",
       "      <td>-0.217955</td>\n",
       "      <td>1.628793</td>\n",
       "      <td>0.482248</td>\n",
       "      <td>1</td>\n",
       "    </tr>\n",
       "    <tr>\n",
       "      <th>57470</th>\n",
       "      <td>-0.296793</td>\n",
       "      <td>57471</td>\n",
       "      <td>47923.0</td>\n",
       "      <td>0.364377</td>\n",
       "      <td>1.443523</td>\n",
       "      <td>-2.220907</td>\n",
       "      <td>2.036985</td>\n",
       "      <td>-1.237055</td>\n",
       "      <td>-1.728161</td>\n",
       "      <td>-2.058582</td>\n",
       "      <td>...</td>\n",
       "      <td>0.310980</td>\n",
       "      <td>0.402730</td>\n",
       "      <td>-0.132129</td>\n",
       "      <td>-0.032977</td>\n",
       "      <td>0.460861</td>\n",
       "      <td>0.560404</td>\n",
       "      <td>0.409366</td>\n",
       "      <td>0.539668</td>\n",
       "      <td>0.296918</td>\n",
       "      <td>1</td>\n",
       "    </tr>\n",
       "    <tr>\n",
       "      <th>45203</th>\n",
       "      <td>-0.293440</td>\n",
       "      <td>45204</td>\n",
       "      <td>42247.0</td>\n",
       "      <td>-2.524012</td>\n",
       "      <td>2.098152</td>\n",
       "      <td>-4.946075</td>\n",
       "      <td>6.456588</td>\n",
       "      <td>3.173921</td>\n",
       "      <td>-3.058806</td>\n",
       "      <td>-0.184710</td>\n",
       "      <td>...</td>\n",
       "      <td>-0.162797</td>\n",
       "      <td>0.027935</td>\n",
       "      <td>0.220366</td>\n",
       "      <td>0.976348</td>\n",
       "      <td>-0.290539</td>\n",
       "      <td>1.161002</td>\n",
       "      <td>0.663954</td>\n",
       "      <td>0.456023</td>\n",
       "      <td>-0.405682</td>\n",
       "      <td>1</td>\n",
       "    </tr>\n",
       "  </tbody>\n",
       "</table>\n",
       "<p>5 rows × 32 columns</p>\n",
       "</div>"
      ],
      "text/plain": [
       "        scaled_amount  Unnamed: 0      Time         V1         V2         V3  \\\n",
       "153758       0.384266      153759  100000.0  -1.408633  -1.624698   2.547742   \n",
       "154633       0.000559      154634  102318.0  -1.020632   1.496959  -4.490937   \n",
       "15166        1.089779       15167   26523.0 -18.474868  11.586381 -21.402917   \n",
       "57470       -0.296793       57471   47923.0   0.364377   1.443523  -2.220907   \n",
       "45203       -0.293440       45204   42247.0  -2.524012   2.098152  -4.946075   \n",
       "\n",
       "              V4         V5        V6         V7  ...       V20       V21  \\\n",
       "153758  0.385672   0.502790  0.507195  -1.744431  ...  0.209033  0.217641   \n",
       "154633  1.836727   0.627318 -2.735569  -1.546274  ...  0.443489  0.773631   \n",
       "15166   6.038515 -14.451158 -4.146524 -14.856124  ...  1.577924  1.741136   \n",
       "57470   2.036985  -1.237055 -1.728161  -2.058582  ...  0.310980  0.402730   \n",
       "45203   6.456588   3.173921 -3.058806  -0.184710  ... -0.162797  0.027935   \n",
       "\n",
       "             V22       V23       V24       V25       V26       V27       V28  \\\n",
       "153758  0.758247  0.281254  0.736608 -0.741402  0.255350  0.141944  0.228167   \n",
       "154633  0.860618 -0.304666 -0.155500  0.412166 -0.220080  0.392338 -0.020089   \n",
       "15166  -1.251138 -0.396219  0.095706  1.322751 -0.217955  1.628793  0.482248   \n",
       "57470  -0.132129 -0.032977  0.460861  0.560404  0.409366  0.539668  0.296918   \n",
       "45203   0.220366  0.976348 -0.290539  1.161002  0.663954  0.456023 -0.405682   \n",
       "\n",
       "        Class  \n",
       "153758      0  \n",
       "154633      1  \n",
       "15166       1  \n",
       "57470       1  \n",
       "45203       1  \n",
       "\n",
       "[5 rows x 32 columns]"
      ]
     },
     "execution_count": 43,
     "metadata": {},
     "output_type": "execute_result"
    }
   ],
   "source": [
    "df2.head()"
   ]
  },
  {
   "cell_type": "markdown",
   "metadata": {
    "tags": []
   },
   "source": [
    "###  Equally Distributing \n",
    "<a id=\"correlating\"></a>\n",
    "Now that we have our dataframe correctly balanced, we can go further with our <b>analysis</b> and <b>data preprocessing</b>."
   ]
  },
  {
   "cell_type": "code",
   "execution_count": 44,
   "metadata": {
    "tags": []
   },
   "outputs": [
    {
     "name": "stdout",
     "output_type": "stream",
     "text": [
      "Distribution of the Classes in the subsample dataset\n",
      "0    0.5\n",
      "1    0.5\n",
      "Name: Class, dtype: float64\n"
     ]
    }
   ],
   "source": [
    "print('Distribution of the Classes in the subsample dataset')\n",
    "print(df2['Class'].value_counts()/len(df2))"
   ]
  },
  {
   "cell_type": "code",
   "execution_count": 45,
   "metadata": {
    "tags": []
   },
   "outputs": [
    {
     "data": {
      "image/png": "[encoded data removed]",
      "text/plain": [
       "<Figure size 640x480 with 1 Axes>"
      ]
     },
     "metadata": {},
     "output_type": "display_data"
    }
   ],
   "source": [
    "colors = [\"#0101DF\", \"#DF0101\"]\n",
    "sns.countplot(x='Class', data=df2, palette=colors)\n",
    "plt.title('Equally Distributed Classes', fontsize=14)\n",
    "plt.show()"
   ]
  },
  {
   "cell_type": "markdown",
   "metadata": {
    "tags": []
   },
   "source": [
    "## Training the ML Model for Fraud Detection(Classification) "
   ]
  },
  {
   "cell_type": "code",
   "execution_count": 46,
   "metadata": {
    "tags": []
   },
   "outputs": [],
   "source": [
    "# Create X_train, X_test, y_train, y_test for ease of use\n",
    "X_train = df2.drop('Class', axis=1)\n",
    "y_train = df2['Class']\n",
    "\n",
    "X_test = test_df.drop('Class', axis=1)\n",
    "y_test = test_df['Class']"
   ]
  },
  {
   "cell_type": "markdown",
   "metadata": {
    "tags": []
   },
   "source": [
    "### Random Forest"
   ]
  },
  {
   "cell_type": "code",
   "execution_count": 47,
   "metadata": {
    "tags": []
   },
   "outputs": [],
   "source": [
    "rf_clf = RandomForestClassifier(n_estimators=100, criterion=\"entropy\")"
   ]
  },
  {
   "cell_type": "code",
   "execution_count": 48,
   "metadata": {
    "tags": []
   },
   "outputs": [
    {
     "data": {
      "text/html": [
       "<style>#sk-container-id-1 {color: black;background-color: white;}#sk-container-id-1 pre{padding: 0;}#sk-container-id-1 div.sk-toggleable {background-color: white;}#sk-container-id-1 label.sk-toggleable__label {cursor: pointer;display: block;width: 100%;margin-bottom: 0;padding: 0.3em;box-sizing: border-box;text-align: center;}#sk-container-id-1 label.sk-toggleable__label-arrow:before {content: \"▸\";float: left;margin-right: 0.25em;color: #696969;}#sk-container-id-1 label.sk-toggleable__label-arrow:hover:before {color: black;}#sk-container-id-1 div.sk-estimator:hover label.sk-toggleable__label-arrow:before {color: black;}#sk-container-id-1 div.sk-toggleable__content {max-height: 0;max-width: 0;overflow: hidden;text-align: left;background-color: #f0f8ff;}#sk-container-id-1 div.sk-toggleable__content pre {margin: 0.2em;color: black;border-radius: 0.25em;background-color: #f0f8ff;}#sk-container-id-1 input.sk-toggleable__control:checked~div.sk-toggleable__content {max-height: 200px;max-width: 100%;overflow: auto;}#sk-container-id-1 input.sk-toggleable__control:checked~label.sk-toggleable__label-arrow:before {content: \"▾\";}#sk-container-id-1 div.sk-estimator input.sk-toggleable__control:checked~label.sk-toggleable__label {background-color: #d4ebff;}#sk-container-id-1 div.sk-label input.sk-toggleable__control:checked~label.sk-toggleable__label {background-color: #d4ebff;}#sk-container-id-1 input.sk-hidden--visually {border: 0;clip: rect(1px 1px 1px 1px);clip: rect(1px, 1px, 1px, 1px);height: 1px;margin: -1px;overflow: hidden;padding: 0;position: absolute;width: 1px;}#sk-container-id-1 div.sk-estimator {font-family: monospace;background-color: #f0f8ff;border: 1px dotted black;border-radius: 0.25em;box-sizing: border-box;margin-bottom: 0.5em;}#sk-container-id-1 div.sk-estimator:hover {background-color: #d4ebff;}#sk-container-id-1 div.sk-parallel-item::after {content: \"\";width: 100%;border-bottom: 1px solid gray;flex-grow: 1;}#sk-container-id-1 div.sk-label:hover label.sk-toggleable__label {background-color: #d4ebff;}#sk-container-id-1 div.sk-serial::before {content: \"\";position: absolute;border-left: 1px solid gray;box-sizing: border-box;top: 0;bottom: 0;left: 50%;z-index: 0;}#sk-container-id-1 div.sk-serial {display: flex;flex-direction: column;align-items: center;background-color: white;padding-right: 0.2em;padding-left: 0.2em;position: relative;}#sk-container-id-1 div.sk-item {position: relative;z-index: 1;}#sk-container-id-1 div.sk-parallel {display: flex;align-items: stretch;justify-content: center;background-color: white;position: relative;}#sk-container-id-1 div.sk-item::before, #sk-container-id-1 div.sk-parallel-item::before {content: \"\";position: absolute;border-left: 1px solid gray;box-sizing: border-box;top: 0;bottom: 0;left: 50%;z-index: -1;}#sk-container-id-1 div.sk-parallel-item {display: flex;flex-direction: column;z-index: 1;position: relative;background-color: white;}#sk-container-id-1 div.sk-parallel-item:first-child::after {align-self: flex-end;width: 50%;}#sk-container-id-1 div.sk-parallel-item:last-child::after {align-self: flex-start;width: 50%;}#sk-container-id-1 div.sk-parallel-item:only-child::after {width: 0;}#sk-container-id-1 div.sk-dashed-wrapped {border: 1px dashed gray;margin: 0 0.4em 0.5em 0.4em;box-sizing: border-box;padding-bottom: 0.4em;background-color: white;}#sk-container-id-1 div.sk-label label {font-family: monospace;font-weight: bold;display: inline-block;line-height: 1.2em;}#sk-container-id-1 div.sk-label-container {text-align: center;}#sk-container-id-1 div.sk-container {/* jupyter's `normalize.less` sets `[hidden] { display: none; }` but bootstrap.min.css set `[hidden] { display: none !important; }` so we also need the `!important` here to be able to override the default hidden behavior on the sphinx rendered scikit-learn.org. See: https://github.com/scikit-learn/scikit-learn/issues/21755 */display: inline-block !important;position: relative;}#sk-container-id-1 div.sk-text-repr-fallback {display: none;}</style><div id=\"sk-container-id-1\" class=\"sk-top-container\"><div class=\"sk-text-repr-fallback\"><pre>RandomForestClassifier(criterion=&#x27;entropy&#x27;)</pre><b>In a Jupyter environment, please rerun this cell to show the HTML representation or trust the notebook. <br />On GitHub, the HTML representation is unable to render, please try loading this page with nbviewer.org.</b></div><div class=\"sk-container\" hidden><div class=\"sk-item\"><div class=\"sk-estimator sk-toggleable\"><input class=\"sk-toggleable__control sk-hidden--visually\" id=\"sk-estimator-id-1\" type=\"checkbox\" checked><label for=\"sk-estimator-id-1\" class=\"sk-toggleable__label sk-toggleable__label-arrow\">RandomForestClassifier</label><div class=\"sk-toggleable__content\"><pre>RandomForestClassifier(criterion=&#x27;entropy&#x27;)</pre></div></div></div></div></div>"
      ],
      "text/plain": [
       "RandomForestClassifier(criterion='entropy')"
      ]
     },
     "execution_count": 48,
     "metadata": {},
     "output_type": "execute_result"
    }
   ],
   "source": [
    "rf_clf.fit(X_train, y_train)"
   ]
  },
  {
   "cell_type": "code",
   "execution_count": 49,
   "metadata": {
    "tags": []
   },
   "outputs": [
    {
     "data": {
      "text/html": [
       "<style>#sk-container-id-2 {color: black;background-color: white;}#sk-container-id-2 pre{padding: 0;}#sk-container-id-2 div.sk-toggleable {background-color: white;}#sk-container-id-2 label.sk-toggleable__label {cursor: pointer;display: block;width: 100%;margin-bottom: 0;padding: 0.3em;box-sizing: border-box;text-align: center;}#sk-container-id-2 label.sk-toggleable__label-arrow:before {content: \"▸\";float: left;margin-right: 0.25em;color: #696969;}#sk-container-id-2 label.sk-toggleable__label-arrow:hover:before {color: black;}#sk-container-id-2 div.sk-estimator:hover label.sk-toggleable__label-arrow:before {color: black;}#sk-container-id-2 div.sk-toggleable__content {max-height: 0;max-width: 0;overflow: hidden;text-align: left;background-color: #f0f8ff;}#sk-container-id-2 div.sk-toggleable__content pre {margin: 0.2em;color: black;border-radius: 0.25em;background-color: #f0f8ff;}#sk-container-id-2 input.sk-toggleable__control:checked~div.sk-toggleable__content {max-height: 200px;max-width: 100%;overflow: auto;}#sk-container-id-2 input.sk-toggleable__control:checked~label.sk-toggleable__label-arrow:before {content: \"▾\";}#sk-container-id-2 div.sk-estimator input.sk-toggleable__control:checked~label.sk-toggleable__label {background-color: #d4ebff;}#sk-container-id-2 div.sk-label input.sk-toggleable__control:checked~label.sk-toggleable__label {background-color: #d4ebff;}#sk-container-id-2 input.sk-hidden--visually {border: 0;clip: rect(1px 1px 1px 1px);clip: rect(1px, 1px, 1px, 1px);height: 1px;margin: -1px;overflow: hidden;padding: 0;position: absolute;width: 1px;}#sk-container-id-2 div.sk-estimator {font-family: monospace;background-color: #f0f8ff;border: 1px dotted black;border-radius: 0.25em;box-sizing: border-box;margin-bottom: 0.5em;}#sk-container-id-2 div.sk-estimator:hover {background-color: #d4ebff;}#sk-container-id-2 div.sk-parallel-item::after {content: \"\";width: 100%;border-bottom: 1px solid gray;flex-grow: 1;}#sk-container-id-2 div.sk-label:hover label.sk-toggleable__label {background-color: #d4ebff;}#sk-container-id-2 div.sk-serial::before {content: \"\";position: absolute;border-left: 1px solid gray;box-sizing: border-box;top: 0;bottom: 0;left: 50%;z-index: 0;}#sk-container-id-2 div.sk-serial {display: flex;flex-direction: column;align-items: center;background-color: white;padding-right: 0.2em;padding-left: 0.2em;position: relative;}#sk-container-id-2 div.sk-item {position: relative;z-index: 1;}#sk-container-id-2 div.sk-parallel {display: flex;align-items: stretch;justify-content: center;background-color: white;position: relative;}#sk-container-id-2 div.sk-item::before, #sk-container-id-2 div.sk-parallel-item::before {content: \"\";position: absolute;border-left: 1px solid gray;box-sizing: border-box;top: 0;bottom: 0;left: 50%;z-index: -1;}#sk-container-id-2 div.sk-parallel-item {display: flex;flex-direction: column;z-index: 1;position: relative;background-color: white;}#sk-container-id-2 div.sk-parallel-item:first-child::after {align-self: flex-end;width: 50%;}#sk-container-id-2 div.sk-parallel-item:last-child::after {align-self: flex-start;width: 50%;}#sk-container-id-2 div.sk-parallel-item:only-child::after {width: 0;}#sk-container-id-2 div.sk-dashed-wrapped {border: 1px dashed gray;margin: 0 0.4em 0.5em 0.4em;box-sizing: border-box;padding-bottom: 0.4em;background-color: white;}#sk-container-id-2 div.sk-label label {font-family: monospace;font-weight: bold;display: inline-block;line-height: 1.2em;}#sk-container-id-2 div.sk-label-container {text-align: center;}#sk-container-id-2 div.sk-container {/* jupyter's `normalize.less` sets `[hidden] { display: none; }` but bootstrap.min.css set `[hidden] { display: none !important; }` so we also need the `!important` here to be able to override the default hidden behavior on the sphinx rendered scikit-learn.org. See: https://github.com/scikit-learn/scikit-learn/issues/21755 */display: inline-block !important;position: relative;}#sk-container-id-2 div.sk-text-repr-fallback {display: none;}</style><div id=\"sk-container-id-2\" class=\"sk-top-container\"><div class=\"sk-text-repr-fallback\"><pre>DecisionTreeClassifier(criterion=&#x27;entropy&#x27;, max_features=&#x27;sqrt&#x27;,\n",
       "                       random_state=909181773)</pre><b>In a Jupyter environment, please rerun this cell to show the HTML representation or trust the notebook. <br />On GitHub, the HTML representation is unable to render, please try loading this page with nbviewer.org.</b></div><div class=\"sk-container\" hidden><div class=\"sk-item\"><div class=\"sk-estimator sk-toggleable\"><input class=\"sk-toggleable__control sk-hidden--visually\" id=\"sk-estimator-id-2\" type=\"checkbox\" checked><label for=\"sk-estimator-id-2\" class=\"sk-toggleable__label sk-toggleable__label-arrow\">DecisionTreeClassifier</label><div class=\"sk-toggleable__content\"><pre>DecisionTreeClassifier(criterion=&#x27;entropy&#x27;, max_features=&#x27;sqrt&#x27;,\n",
       "                       random_state=909181773)</pre></div></div></div></div></div>"
      ],
      "text/plain": [
       "DecisionTreeClassifier(criterion='entropy', max_features='sqrt',\n",
       "                       random_state=909181773)"
      ]
     },
     "execution_count": 49,
     "metadata": {},
     "output_type": "execute_result"
    }
   ],
   "source": [
    "# Decision Tree in the Forest\n",
    "rf_clf.estimators_[0]"
   ]
  },
  {
   "cell_type": "markdown",
   "metadata": {
    "tags": []
   },
   "source": [
    "#### Evaluation Metrics\n",
    "The Given the class imbalance ratio, Confusion matrix and accuracy is not meaningful\n",
    "for unbalanced classification. A robust evaluation is required to measure the\n",
    "performance of a fraud detection model.\n",
    "\n",
    "**1. False Positives:**\n",
    "A false positive is an outcome where the model incorrectly predicts the positive class.\n",
    "<br>**2. False Negatives:**\n",
    "A false negative is an outcome where the model incorrectly predicts the negative class.\n",
    "<br>**3. Precision:**\n",
    "Precision talks about how precise/accurate the model is i.e. out of those predicted positives, how many of them are actual positive. Precision is a good measure to determine, when the costs of False Positives is high. For instance, here, a false positive means that a transaction is that is non- fraudulent has been identified as fraudulent. This can happen if the precision is not high for the fraud detection model.\n",
    "<br>**4. Recall:**\n",
    "Recall calculates how many of the Actual Positives our model captures through labeling it as Positive (True Positive). If a fraudulent transaction is predicted as non-fraudulent (Predicted Negative), the consequence can be very bad for the bank.\n",
    "<br>**5. F1 Score:**\n",
    "F1 Score is used to seek a balance between Precision and Recall.\n",
    "<br>**6. Mathews Correlation Coefficient:**\n",
    "The coefficient takes into account true and false positives and negatives and is generally regarded as a balanced measure which can be used even if the classes are of very different sizes. The MCC is in essence a correlation coefficient between the observed and predicted binary classifications; it returns a value between −1 and +1.<br> \n",
    "A coefficient of +1 represents a perfect prediction, 0 no better than random prediction and −1 indicates total disagreement between prediction and observation.<br>\n",
    "The Matthews correlation coefficient is more informative than F1 score and\n",
    "accuracy in evaluating binary classification problems, because it takes into\n",
    "account the balance ratios of the four confusion matrix categories (true\n",
    "positives, true negatives, false positives, and false negative)."
   ]
  },
  {
   "cell_type": "code",
   "execution_count": 50,
   "metadata": {
    "tags": []
   },
   "outputs": [
    {
     "ename": "NameError",
     "evalue": "name 'predict_and_evaluate' is not defined",
     "output_type": "error",
     "traceback": [
      "\u001b[1;31m---------------------------------------------------------------------------\u001b[0m",
      "\u001b[1;31mNameError\u001b[0m                                 Traceback (most recent call last)",
      "Cell \u001b[1;32mIn [50], line 1\u001b[0m\n\u001b[1;32m----> 1\u001b[0m rf_res \u001b[38;5;241m=\u001b[39m \u001b[43mpredict_and_evaluate\u001b[49m(rf_clf, X_test, y_test)\n",
      "\u001b[1;31mNameError\u001b[0m: name 'predict_and_evaluate' is not defined"
     ]
    }
   ],
   "source": [
    "rf_res = predict_and_evaluate(rf_clf, X_test, y_test)"
   ]
  },
  {
   "cell_type": "code",
   "execution_count": null,
   "metadata": {},
   "outputs": [],
   "source": [
    "rf_res"
   ]
  },
  {
   "cell_type": "markdown",
   "metadata": {
    "tags": []
   },
   "source": [
    "# Feature Importances\n",
    "\n",
    "In order to quantify the usefulness of all the variables in the entire random forest, we can look at the relative importances of the variables."
   ]
  },
  {
   "cell_type": "code",
   "execution_count": null,
   "metadata": {
    "tags": []
   },
   "outputs": [],
   "source": [
    "rf_clf.feature_importances_"
   ]
  },
  {
   "cell_type": "code",
   "execution_count": null,
   "metadata": {},
   "outputs": [],
   "source": [
    "X_train.columns"
   ]
  },
  {
   "cell_type": "code",
   "execution_count": null,
   "metadata": {
    "tags": []
   },
   "outputs": [],
   "source": [
    "feature_importances = pd.Series(rf_clf.feature_importances_, index=X_train.columns)"
   ]
  },
  {
   "cell_type": "code",
   "execution_count": null,
   "metadata": {
    "tags": []
   },
   "outputs": [],
   "source": [
    "feature_importances.sort_values(ascending=False, inplace=True)"
   ]
  },
  {
   "cell_type": "code",
   "execution_count": null,
   "metadata": {},
   "outputs": [],
   "source": [
    "feature_importances"
   ]
  },
  {
   "cell_type": "code",
   "execution_count": null,
   "metadata": {
    "tags": []
   },
   "outputs": [],
   "source": [
    "feature_importances"
   ]
  },
  {
   "cell_type": "code",
   "execution_count": null,
   "metadata": {
    "tags": []
   },
   "outputs": [],
   "source": [
    "fig = plt.figure(figsize=(8,4), dpi=100)\n",
    "feature_importances.plot.bar()\n",
    "plt.title(\"Feature importances\")\n",
    "plt.xlabel(\"Features\")\n",
    "plt.ylabel(\"Mean Decrease in Impurity\")\n",
    "plt.show()"
   ]
  },
  {
   "cell_type": "markdown",
   "metadata": {
    "tags": []
   },
   "source": [
    "## Exercise\n",
    "Train all models again by considering only important features (e.g. top 10 or 20) and evaluate the model and observe the difference in the metrics."
   ]
  },
  {
   "cell_type": "markdown",
   "metadata": {
    "tags": []
   },
   "source": [
    "### Gradient Boosting"
   ]
  },
  {
   "cell_type": "code",
   "execution_count": null,
   "metadata": {
    "tags": []
   },
   "outputs": [],
   "source": [
    "gbm_clf = GradientBoostingClassifier()"
   ]
  },
  {
   "cell_type": "code",
   "execution_count": null,
   "metadata": {
    "tags": []
   },
   "outputs": [],
   "source": [
    "gbm_clf.fit(X_train,y_train)"
   ]
  },
  {
   "cell_type": "code",
   "execution_count": null,
   "metadata": {
    "tags": []
   },
   "outputs": [],
   "source": [
    "gbm_res = predict_and_evaluate(gbm_clf, X_test, y_test)"
   ]
  },
  {
   "cell_type": "markdown",
   "metadata": {
    "tags": []
   },
   "source": [
    "### XGBoost"
   ]
  },
  {
   "cell_type": "code",
   "execution_count": null,
   "metadata": {
    "tags": []
   },
   "outputs": [],
   "source": [
    "xgb_clf = XGBClassifier()"
   ]
  },
  {
   "cell_type": "code",
   "execution_count": null,
   "metadata": {
    "tags": []
   },
   "outputs": [],
   "source": [
    "xgb_clf.fit(X_train,y_train)"
   ]
  },
  {
   "cell_type": "code",
   "execution_count": null,
   "metadata": {
    "tags": []
   },
   "outputs": [],
   "source": [
    "xgb_res = predict_and_evaluate(xgb_clf, X_test, y_test)"
   ]
  },
  {
   "cell_type": "markdown",
   "metadata": {
    "tags": []
   },
   "source": [
    "## Comparing the metrics for all models"
   ]
  },
  {
   "cell_type": "code",
   "execution_count": null,
   "metadata": {
    "tags": []
   },
   "outputs": [],
   "source": [
    "results = pd.DataFrame(data=[rf_res, gbm_res, xgb_res], \n",
    "             columns=('Algorithm','False Positives', \n",
    "                      'False Negatives', 'Precision', \n",
    "                      'Recall', 'F1 Score'))"
   ]
  },
  {
   "cell_type": "code",
   "execution_count": null,
   "metadata": {
    "tags": []
   },
   "outputs": [],
   "source": [
    "results"
   ]
  }
 ],
 "metadata": {
  "kernelspec": {
   "display_name": "Python 3 (ipykernel)",
   "language": "python",
   "name": "python3"
  },
  "language_info": {
   "codemirror_mode": {
    "name": "ipython",
    "version": 3
   },
   "file_extension": ".py",
   "mimetype": "text/x-python",
   "name": "python",
   "nbconvert_exporter": "python",
   "pygments_lexer": "ipython3",
   "version": "3.9.12"
  },
  "toc-autonumbering": true
 },
 "nbformat": 4,
 "nbformat_minor": 4
}
